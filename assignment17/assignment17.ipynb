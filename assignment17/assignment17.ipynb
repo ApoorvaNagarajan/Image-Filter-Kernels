{
  "nbformat": 4,
  "nbformat_minor": 0,
  "metadata": {
    "colab": {
      "name": "assignment17.ipynb",
      "provenance": [],
      "collapsed_sections": [],
      "include_colab_link": true
    },
    "kernelspec": {
      "name": "python3",
      "display_name": "Python 3"
    },
    "accelerator": "GPU"
  },
  "cells": [
    {
      "cell_type": "markdown",
      "metadata": {
        "id": "view-in-github",
        "colab_type": "text"
      },
      "source": [
        "<a href=\"https://colab.research.google.com/github/ApoorvaNagarajan/Image-Filter-Kernels/blob/master/assignment17/assignment17.ipynb\" target=\"_parent\"><img src=\"https://colab.research.google.com/assets/colab-badge.svg\" alt=\"Open In Colab\"/></a>"
      ]
    },
    {
      "cell_type": "markdown",
      "metadata": {
        "id": "rRihSTgxAoWW",
        "colab_type": "text"
      },
      "source": [
        "#Importing all python packages"
      ]
    },
    {
      "cell_type": "code",
      "metadata": {
        "id": "QCNBjizmixGN",
        "colab_type": "code",
        "colab": {
          "base_uri": "https://localhost:8080/",
          "height": 67
        },
        "outputId": "07171e1d-becb-4df5-9716-81a1146e278b"
      },
      "source": [
        "# Ensure latest TensorFlow is installed.\n",
        "!pip install -q tf-nightly-gpu-2.0-preview\n",
        "# Load the TensorBoard notebook extension.\n",
        "%load_ext tensorboard"
      ],
      "execution_count": 1,
      "outputs": [
        {
          "output_type": "stream",
          "text": [
            "\u001b[K     |████████████████████████████████| 392.0MB 55kB/s \n",
            "\u001b[K     |████████████████████████████████| 450kB 35.4MB/s \n",
            "\u001b[K     |████████████████████████████████| 3.8MB 23.9MB/s \n",
            "\u001b[?25h"
          ],
          "name": "stdout"
        }
      ]
    },
    {
      "cell_type": "code",
      "metadata": {
        "id": "kmjVbfqkjCG9",
        "colab_type": "code",
        "colab": {
          "base_uri": "https://localhost:8080/",
          "height": 34
        },
        "outputId": "65b13452-92ad-4b75-ecdd-bef0df6f7946"
      },
      "source": [
        "from __future__ import absolute_import\n",
        "from __future__ import division\n",
        "from __future__ import print_function\n",
        "\n",
        "from datetime import datetime\n",
        "from packaging import version\n",
        "\n",
        "import tensorflow as tf\n",
        "#tf.enable_eager_execution()\n",
        "\n",
        "import functools\n",
        "import tensorflow_datasets as tfds\n",
        "from tensorflow.python.keras import backend\n",
        "from tensorflow.python.keras import layers\n",
        "import numpy as np\n",
        "\n",
        "print(\"TensorFlow version: \", tf.__version__)"
      ],
      "execution_count": 2,
      "outputs": [
        {
          "output_type": "stream",
          "text": [
            "TensorFlow version:  2.0.0-dev20190920\n"
          ],
          "name": "stdout"
        }
      ]
    },
    {
      "cell_type": "code",
      "metadata": {
        "id": "_8GraHdilddC",
        "colab_type": "code",
        "colab": {
          "base_uri": "https://localhost:8080/",
          "height": 34
        },
        "outputId": "b8c8c9a4-4e11-466c-ca05-0f009eecaf89"
      },
      "source": [
        "tf.executing_eagerly()"
      ],
      "execution_count": 3,
      "outputs": [
        {
          "output_type": "execute_result",
          "data": {
            "text/plain": [
              "True"
            ]
          },
          "metadata": {
            "tags": []
          },
          "execution_count": 3
        }
      ]
    },
    {
      "cell_type": "code",
      "metadata": {
        "id": "Z7wH0zJEjTux",
        "colab_type": "code",
        "colab": {}
      },
      "source": [
        "from google.colab import drive\n",
        "import time, math"
      ],
      "execution_count": 0,
      "outputs": []
    },
    {
      "cell_type": "code",
      "metadata": {
        "id": "K70hAckqg0EA",
        "colab_type": "code",
        "colab": {}
      },
      "source": [
        "#import numpy as np\n",
        "#import time, math\n",
        "#from tqdm import tqdm_notebook as tqdm\n",
        "\n",
        "#import tensorflow as tf\n",
        "#import tensorflow.contrib.eager as tfe\n",
        "\n",
        "#from google.colab import drive\n",
        "#from datetime import datetime"
      ],
      "execution_count": 0,
      "outputs": []
    },
    {
      "cell_type": "markdown",
      "metadata": {
        "id": "CJ7VUE2sBHid",
        "colab_type": "text"
      },
      "source": [
        "**clone the utility repo created**"
      ]
    },
    {
      "cell_type": "code",
      "metadata": {
        "id": "rCO-8DOo1Kyu",
        "colab_type": "code",
        "outputId": "7d306111-7fbb-4b54-eaa8-bc75b3a2fa1a",
        "colab": {
          "base_uri": "https://localhost:8080/",
          "height": 151
        }
      },
      "source": [
        "!rm -rf DNN_utils\n",
        "!git clone https://github.com/ApoorvaNagarajan/DNN_utils.git\n",
        "\n",
        "from DNN_utils import tfrecord_utils\n",
        "from DNN_utils import data_transforms as dt"
      ],
      "execution_count": 5,
      "outputs": [
        {
          "output_type": "stream",
          "text": [
            "Cloning into 'DNN_utils'...\n",
            "remote: Enumerating objects: 39, done.\u001b[K\n",
            "remote: Counting objects:   2% (1/39)\u001b[K\rremote: Counting objects:   5% (2/39)\u001b[K\rremote: Counting objects:   7% (3/39)\u001b[K\rremote: Counting objects:  10% (4/39)\u001b[K\rremote: Counting objects:  12% (5/39)\u001b[K\rremote: Counting objects:  15% (6/39)\u001b[K\rremote: Counting objects:  17% (7/39)\u001b[K\rremote: Counting objects:  20% (8/39)\u001b[K\rremote: Counting objects:  23% (9/39)\u001b[K\rremote: Counting objects:  25% (10/39)\u001b[K\rremote: Counting objects:  28% (11/39)\u001b[K\rremote: Counting objects:  30% (12/39)\u001b[K\rremote: Counting objects:  33% (13/39)\u001b[K\rremote: Counting objects:  35% (14/39)\u001b[K\rremote: Counting objects:  38% (15/39)\u001b[K\rremote: Counting objects:  41% (16/39)\u001b[K\rremote: Counting objects:  43% (17/39)\u001b[K\rremote: Counting objects:  46% (18/39)\u001b[K\rremote: Counting objects:  48% (19/39)\u001b[K\rremote: Counting objects:  51% (20/39)\u001b[K\rremote: Counting objects:  53% (21/39)\u001b[K\rremote: Counting objects:  56% (22/39)\u001b[K\rremote: Counting objects:  58% (23/39)\u001b[K\rremote: Counting objects:  61% (24/39)\u001b[K\rremote: Counting objects:  64% (25/39)\u001b[K\rremote: Counting objects:  66% (26/39)\u001b[K\rremote: Counting objects:  69% (27/39)\u001b[K\rremote: Counting objects:  71% (28/39)\u001b[K\rremote: Counting objects:  74% (29/39)\u001b[K\rremote: Counting objects:  76% (30/39)\u001b[K\rremote: Counting objects:  79% (31/39)\u001b[K\rremote: Counting objects:  82% (32/39)\u001b[K\rremote: Counting objects:  84% (33/39)\u001b[K\rremote: Counting objects:  87% (34/39)\u001b[K\rremote: Counting objects:  89% (35/39)\u001b[K\rremote: Counting objects:  92% (36/39)\u001b[K\rremote: Counting objects:  94% (37/39)\u001b[K\rremote: Counting objects:  97% (38/39)\u001b[K\rremote: Counting objects: 100% (39/39)\u001b[K\rremote: Counting objects: 100% (39/39), done.\u001b[K\n",
            "remote: Compressing objects:   2% (1/38)\u001b[K\rremote: Compressing objects:   5% (2/38)\u001b[K\rremote: Compressing objects:   7% (3/38)\u001b[K\rremote: Compressing objects:  10% (4/38)\u001b[K\rremote: Compressing objects:  13% (5/38)\u001b[K\rremote: Compressing objects:  15% (6/38)\u001b[K\rremote: Compressing objects:  18% (7/38)\u001b[K\rremote: Compressing objects:  21% (8/38)\u001b[K\rremote: Compressing objects:  23% (9/38)\u001b[K\rremote: Compressing objects:  26% (10/38)\u001b[K\rremote: Compressing objects:  28% (11/38)\u001b[K\rremote: Compressing objects:  31% (12/38)\u001b[K\rremote: Compressing objects:  34% (13/38)\u001b[K\rremote: Compressing objects:  36% (14/38)\u001b[K\rremote: Compressing objects:  39% (15/38)\u001b[K\rremote: Compressing objects:  42% (16/38)\u001b[K\rremote: Compressing objects:  44% (17/38)\u001b[K\rremote: Compressing objects:  47% (18/38)\u001b[K\rremote: Compressing objects:  50% (19/38)\u001b[K\rremote: Compressing objects:  52% (20/38)\u001b[K\rremote: Compressing objects:  55% (21/38)\u001b[K\rremote: Compressing objects:  57% (22/38)\u001b[K\rremote: Compressing objects:  60% (23/38)\u001b[K\rremote: Compressing objects:  63% (24/38)\u001b[K\rremote: Compressing objects:  65% (25/38)\u001b[K\rremote: Compressing objects:  68% (26/38)\u001b[K\rremote: Compressing objects:  71% (27/38)\u001b[K\rremote: Compressing objects:  73% (28/38)\u001b[K\rremote: Compressing objects:  76% (29/38)\u001b[K\rremote: Compressing objects:  78% (30/38)\u001b[K\rremote: Compressing objects:  81% (31/38)\u001b[K\rremote: Compressing objects:  84% (32/38)\u001b[K\rremote: Compressing objects:  86% (33/38)\u001b[K\rremote: Compressing objects:  89% (34/38)\u001b[K\rremote: Compressing objects:  92% (35/38)\u001b[K\rremote: Compressing objects:  94% (36/38)\u001b[K\rremote: Compressing objects:  97% (37/38)\u001b[K\rremote: Compressing objects: 100% (38/38)\u001b[K\rremote: Compressing objects: 100% (38/38), done.\u001b[K\n",
            "Receiving objects:   0% (1/105)   \rReceiving objects:   1% (2/105)   \rReceiving objects:   2% (3/105)   \rReceiving objects:   3% (4/105)   \rReceiving objects:   4% (5/105)   \rReceiving objects:   5% (6/105)   \rReceiving objects:   6% (7/105)   \rReceiving objects:   7% (8/105)   \rReceiving objects:   8% (9/105)   \rReceiving objects:   9% (10/105)   \rReceiving objects:  10% (11/105)   \rReceiving objects:  11% (12/105)   \rReceiving objects:  12% (13/105)   \rReceiving objects:  13% (14/105)   \rReceiving objects:  14% (15/105)   \rReceiving objects:  15% (16/105)   \rReceiving objects:  16% (17/105)   \rReceiving objects:  17% (18/105)   \rReceiving objects:  18% (19/105)   \rReceiving objects:  19% (20/105)   \rReceiving objects:  20% (21/105)   \rReceiving objects:  21% (23/105)   \rReceiving objects:  22% (24/105)   \rReceiving objects:  23% (25/105)   \rReceiving objects:  24% (26/105)   \rReceiving objects:  25% (27/105)   \rReceiving objects:  26% (28/105)   \rReceiving objects:  27% (29/105)   \rReceiving objects:  28% (30/105)   \rReceiving objects:  29% (31/105)   \rReceiving objects:  30% (32/105)   \rReceiving objects:  31% (33/105)   \rReceiving objects:  32% (34/105)   \rReceiving objects:  33% (35/105)   \rReceiving objects:  34% (36/105)   \rReceiving objects:  35% (37/105)   \rReceiving objects:  36% (38/105)   \rReceiving objects:  37% (39/105)   \rReceiving objects:  38% (40/105)   \rReceiving objects:  39% (41/105)   \rReceiving objects:  40% (42/105)   \rReceiving objects:  41% (44/105)   \rReceiving objects:  42% (45/105)   \rReceiving objects:  43% (46/105)   \rReceiving objects:  44% (47/105)   \rReceiving objects:  45% (48/105)   \rReceiving objects:  46% (49/105)   \rReceiving objects:  47% (50/105)   \rReceiving objects:  48% (51/105)   \rReceiving objects:  49% (52/105)   \rReceiving objects:  50% (53/105)   \rReceiving objects:  51% (54/105)   \rReceiving objects:  52% (55/105)   \rReceiving objects:  53% (56/105)   \rReceiving objects:  54% (57/105)   \rReceiving objects:  55% (58/105)   \rReceiving objects:  56% (59/105)   \rReceiving objects:  57% (60/105)   \rReceiving objects:  58% (61/105)   \rReceiving objects:  59% (62/105)   \rReceiving objects:  60% (63/105)   \rReceiving objects:  61% (65/105)   \rReceiving objects:  62% (66/105)   \rReceiving objects:  63% (67/105)   \rReceiving objects:  64% (68/105)   \rReceiving objects:  65% (69/105)   \rReceiving objects:  66% (70/105)   \rReceiving objects:  67% (71/105)   \rReceiving objects:  68% (72/105)   \rReceiving objects:  69% (73/105)   \rReceiving objects:  70% (74/105)   \rReceiving objects:  71% (75/105)   \rReceiving objects:  72% (76/105)   \rReceiving objects:  73% (77/105)   \rReceiving objects:  74% (78/105)   \rReceiving objects:  75% (79/105)   \rReceiving objects:  76% (80/105)   \rReceiving objects:  77% (81/105)   \rReceiving objects:  78% (82/105)   \rReceiving objects:  79% (83/105)   \rremote: Total 105 (delta 17), reused 0 (delta 0), pack-reused 66\u001b[K\n",
            "Receiving objects:  80% (84/105)   \rReceiving objects:  81% (86/105)   \rReceiving objects:  82% (87/105)   \rReceiving objects:  83% (88/105)   \rReceiving objects:  84% (89/105)   \rReceiving objects:  85% (90/105)   \rReceiving objects:  86% (91/105)   \rReceiving objects:  87% (92/105)   \rReceiving objects:  88% (93/105)   \rReceiving objects:  89% (94/105)   \rReceiving objects:  90% (95/105)   \rReceiving objects:  91% (96/105)   \rReceiving objects:  92% (97/105)   \rReceiving objects:  93% (98/105)   \rReceiving objects:  94% (99/105)   \rReceiving objects:  95% (100/105)   \rReceiving objects:  96% (101/105)   \rReceiving objects:  97% (102/105)   \rReceiving objects:  98% (103/105)   \rReceiving objects:  99% (104/105)   \rReceiving objects: 100% (105/105)   \rReceiving objects: 100% (105/105), 46.47 KiB | 5.81 MiB/s, done.\n",
            "Resolving deltas:   0% (0/40)   \rResolving deltas:  22% (9/40)   \rResolving deltas:  35% (14/40)   \rResolving deltas:  60% (24/40)   \rResolving deltas:  85% (34/40)   \rResolving deltas:  97% (39/40)   \rResolving deltas: 100% (40/40)   \rResolving deltas: 100% (40/40), done.\n"
          ],
          "name": "stdout"
        },
        {
          "output_type": "stream",
          "text": [
            "Using TensorFlow backend.\n"
          ],
          "name": "stderr"
        }
      ]
    },
    {
      "cell_type": "markdown",
      "metadata": {
        "id": "2TxmEHgFBN6t",
        "colab_type": "text"
      },
      "source": [
        "**Mount google drive to fetch the CIFAR dataset stored in tfRecord format**"
      ]
    },
    {
      "cell_type": "code",
      "metadata": {
        "id": "C3n4tncNyTJ1",
        "colab_type": "code",
        "outputId": "dba118b0-fec4-4c10-e183-806fc9ccb7d7",
        "colab": {
          "base_uri": "https://localhost:8080/",
          "height": 121
        }
      },
      "source": [
        "drive.mount('/content/drive')"
      ],
      "execution_count": 6,
      "outputs": [
        {
          "output_type": "stream",
          "text": [
            "Go to this URL in a browser: https://accounts.google.com/o/oauth2/auth?client_id=947318989803-6bn6qk8qdgf4n4g3pfee6491hc0brc4i.apps.googleusercontent.com&redirect_uri=urn%3Aietf%3Awg%3Aoauth%3A2.0%3Aoob&scope=email%20https%3A%2F%2Fwww.googleapis.com%2Fauth%2Fdocs.test%20https%3A%2F%2Fwww.googleapis.com%2Fauth%2Fdrive%20https%3A%2F%2Fwww.googleapis.com%2Fauth%2Fdrive.photos.readonly%20https%3A%2F%2Fwww.googleapis.com%2Fauth%2Fpeopleapi.readonly&response_type=code\n",
            "\n",
            "Enter your authorization code:\n",
            "··········\n",
            "Mounted at /content/drive\n"
          ],
          "name": "stdout"
        }
      ]
    },
    {
      "cell_type": "markdown",
      "metadata": {
        "id": "YCNNonHjBrPa",
        "colab_type": "text"
      },
      "source": [
        "**Configuration**"
      ]
    },
    {
      "cell_type": "code",
      "metadata": {
        "id": "dsO_yGxcg5D8",
        "colab_type": "code",
        "colab": {}
      },
      "source": [
        "# Hyperparameters\n",
        "\n",
        "BATCH_SIZE = 512 #@param {type:\"number\"}\n",
        "EPOCHS = 10 #@param {type:\"number\"}\n",
        "MOMENTUM = 0.9 #@param {type:\"number\"}\n",
        "LEARNING_RATE = 0.4 #@param {type:\"number\"}\n",
        "WEIGHT_DECAY = 5e-4 #@param {type:\"number\"}\n",
        "\n",
        "\n"
      ],
      "execution_count": 0,
      "outputs": []
    },
    {
      "cell_type": "code",
      "metadata": {
        "id": "DZDXvqFqBG8g",
        "colab_type": "code",
        "colab": {}
      },
      "source": [
        "#Configuration\n",
        "\n",
        "NUM_CLASSES = 10 \n",
        "IMG_SHAPE=[32, 32, 3]\n",
        "NUM_TRAIN_IMG = 50000\n",
        "NUM_TEST_IMG = 10000\n",
        "BATCHES_PER_EPOCH = NUM_TRAIN_IMG//BATCH_SIZE\n",
        "VALIDATION_STEPS = NUM_TEST_IMG//BATCH_SIZE"
      ],
      "execution_count": 0,
      "outputs": []
    },
    {
      "cell_type": "markdown",
      "metadata": {
        "id": "T-ymW9bYBjuA",
        "colab_type": "text"
      },
      "source": [
        "#Load tfRecord format CIFAR10 dataset"
      ]
    },
    {
      "cell_type": "code",
      "metadata": {
        "id": "mB7o3zu1g6eT",
        "colab_type": "code",
        "colab": {}
      },
      "source": [
        "tfrecord_utils.convert_to_tfRecord('CIFAR10',trainFile='/content/drive/My Drive/datasets/cifarTfTrain.tfrecords', testFile='/content/drive/My Drive/datasets/cifarTfTest.tfrecords')\n",
        "#train_x, train_y = tfrecord_utils.parse_tfRecord('/content/drive/My Drive/datasets/cifarTfTrain.tfrecords', NUM_TRAIN_IMG, BATCH_SIZE, IMG_SHAPE, NUM_CLASSES)\n",
        "#test_x, test_y = tfrecord_utils.parse_tfRecord('/content/drive/My Drive/datasets/cifarTfTest.tfrecords', NUM_TEST_IMG, BATCH_SIZE, IMG_SHAPE, NUM_CLASSES)\n",
        "train_set = tfrecord_utils.get_dataset('/content/drive/My Drive/datasets/cifarTfTrain.tfrecords',IMG_SHAPE,NUM_CLASSES)\n",
        "test_set = tfrecord_utils.get_dataset('/content/drive/My Drive/datasets/cifarTfTest.tfrecords',IMG_SHAPE,NUM_CLASSES)"
      ],
      "execution_count": 0,
      "outputs": []
    },
    {
      "cell_type": "markdown",
      "metadata": {
        "id": "K_5NThI0Bwdd",
        "colab_type": "text"
      },
      "source": [
        "#Define model"
      ]
    },
    {
      "cell_type": "code",
      "metadata": {
        "id": "sRe78gUcg2JY",
        "colab_type": "code",
        "colab": {}
      },
      "source": [
        "def init_pytorch(shape, dtype=tf.float32, partition_info=None):\n",
        "  fan = np.prod(shape[:-1])\n",
        "  bound = 1 / math.sqrt(fan)\n",
        "  return tf.random.uniform(shape, minval=-bound, maxval=bound, dtype=dtype)"
      ],
      "execution_count": 0,
      "outputs": []
    },
    {
      "cell_type": "code",
      "metadata": {
        "id": "I9ejoe7ffYfe",
        "colab_type": "code",
        "colab": {}
      },
      "source": [
        "class ConvBN(tf.keras.Model):\n",
        "  def __init__(self, c_out):\n",
        "    super().__init__()\n",
        "    self.conv = tf.keras.layers.Conv2D(filters=c_out, kernel_size=3, padding=\"SAME\", kernel_initializer=init_pytorch, use_bias=False)\n",
        "    self.bn = tf.keras.layers.BatchNormalization(momentum=0.9, epsilon=1e-5)\n",
        "\n",
        "  def call(self, inputs):\n",
        "    return tf.nn.relu(self.bn(self.conv(inputs)))"
      ],
      "execution_count": 0,
      "outputs": []
    },
    {
      "cell_type": "code",
      "metadata": {
        "id": "Mnm9F8eXfZSX",
        "colab_type": "code",
        "colab": {}
      },
      "source": [
        "class ResBlk(tf.keras.Model):\n",
        "  def __init__(self, c_out, pool, res = False):\n",
        "    super().__init__()\n",
        "    self.conv_bn = ConvBN(c_out)\n",
        "    self.pool = pool\n",
        "    self.res = res\n",
        "    if self.res:\n",
        "      self.res1 = ConvBN(c_out)\n",
        "      self.res2 = ConvBN(c_out)\n",
        "\n",
        "  def call(self, inputs):\n",
        "    h = self.pool(self.conv_bn(inputs))\n",
        "    if self.res:\n",
        "      h = h + self.res2(self.res1(h))\n",
        "    return h"
      ],
      "execution_count": 0,
      "outputs": []
    },
    {
      "cell_type": "code",
      "metadata": {
        "id": "VFrEx728fcps",
        "colab_type": "code",
        "colab": {}
      },
      "source": [
        "class DavidNet(tf.keras.Model):\n",
        "  def __init__(self, c=64, weight=0.125):\n",
        "    super().__init__()\n",
        "    pool = tf.keras.layers.MaxPooling2D()\n",
        "    self.init_conv_bn = ConvBN(c)\n",
        "    self.blk1 = ResBlk(c*2, pool, res = True)\n",
        "    self.blk2 = ResBlk(c*4, pool)\n",
        "    self.blk3 = ResBlk(c*8, pool, res = True)\n",
        "    self.pool = tf.keras.layers.GlobalMaxPool2D()\n",
        "    self.linear = tf.keras.layers.Dense(10, kernel_initializer=init_pytorch, use_bias=False)\n",
        "    self.weight = weight\n",
        "\n",
        "  def call(self, inputs):\n",
        "    h = self.pool(self.blk3(self.blk2(self.blk1(self.init_conv_bn(inputs)))))\n",
        "    h = self.linear(h) * self.weight\n",
        "    h = tf.nn.softmax(h)\n",
        "    return h"
      ],
      "execution_count": 0,
      "outputs": []
    },
    {
      "cell_type": "markdown",
      "metadata": {
        "id": "aXjqZr0RB4R0",
        "colab_type": "text"
      },
      "source": [
        "#Create network and run"
      ]
    },
    {
      "cell_type": "code",
      "metadata": {
        "id": "1kFh7pdxhNtT",
        "colab_type": "code",
        "colab": {}
      },
      "source": [
        "model = DavidNet()\n",
        "\n",
        "#lr_schedule = lambda t: np.interp([t], [0, (EPOCHS+1)//5, EPOCHS], [0, LEARNING_RATE, 0])[0]\n",
        "#lr_func = lambda: lr_schedule(EPOCHS)/BATCH_SIZE\n",
        "#opt = tf.compat.v1.train.MomentumOptimizer(lr_func, momentum=MOMENTUM, use_nesterov=True)\n",
        "data_aug = lambda x, y: (dt.random_pad_crop(dt.randomFlip(dt.cutOut(dt.rotate(x, 10),8,8,0)), 4),y)\n",
        "#data_aug = lambda x, y: (tf.image.random_flip_left_right(tf.random_crop(x, [32, 32, 3])), y)"
      ],
      "execution_count": 0,
      "outputs": []
    },
    {
      "cell_type": "code",
      "metadata": {
        "id": "UXNkuzm1-3V_",
        "colab_type": "code",
        "colab": {}
      },
      "source": [
        "#import IPython.display as display\n",
        "#import matplotlib.pyplot as plt\n",
        "#import numpy as np\n",
        "#% matplotlib inline\n",
        "\n",
        "#for parsed_record in train_set.take(10):\n",
        "#  print(repr(parsed_record))\n",
        "\n",
        "#for record in train_set.take(10):\n",
        "#  print('here')\n",
        "#  plt.rcParams['figure.figsize'] = (1,1)\n",
        "#  f, ax = plt.subplots(1, 1)\n",
        "#  ax.set_xticks([])\n",
        "#  ax.set_yticks([])\n",
        "#  ax.imshow(record[0].numpy().reshape(32,32,3).astype('int32'))\n",
        "#  break"
      ],
      "execution_count": 0,
      "outputs": []
    },
    {
      "cell_type": "code",
      "metadata": {
        "id": "40smoLFiEfKQ",
        "colab_type": "code",
        "colab": {}
      },
      "source": [
        "log_dir=\"logs/profile/\" + datetime.now().strftime(\"%Y%m%d-%H%M%S\")\n",
        "\n",
        "tensorboard_callback = tf.keras.callbacks.TensorBoard(log_dir=log_dir, histogram_freq=1, profile_batch = 3)\n"
      ],
      "execution_count": 0,
      "outputs": []
    },
    {
      "cell_type": "code",
      "metadata": {
        "id": "EA6QKJtOsB1z",
        "colab_type": "code",
        "colab": {}
      },
      "source": [
        "def scheduler(epoch, lr):\n",
        "  return np.interp(epoch, [0, (EPOCHS+1)//5, EPOCHS], [0.01, LEARNING_RATE, 0])\n"
      ],
      "execution_count": 0,
      "outputs": []
    },
    {
      "cell_type": "code",
      "metadata": {
        "id": "ccl864hMhULH",
        "colab_type": "code",
        "colab": {}
      },
      "source": [
        "model.compile(optimizer='SGD',\n",
        "              loss='categorical_crossentropy',\n",
        "              metrics=['accuracy'])"
      ],
      "execution_count": 0,
      "outputs": []
    },
    {
      "cell_type": "code",
      "metadata": {
        "id": "-QnWF3Q2hZ4m",
        "colab_type": "code",
        "colab": {
          "base_uri": "https://localhost:8080/",
          "height": 386
        },
        "outputId": "7ae579b4-8988-4cca-e288-760af7e5e471"
      },
      "source": [
        "train_set = train_set.repeat()\n",
        "train_set_aug = train_set.map(data_aug).shuffle(NUM_TRAIN_IMG).batch(BATCH_SIZE)\n",
        "train_set = train_set.prefetch(1)\n",
        "test_set = test_set.repeat()\n",
        "test_set = test_set.batch(BATCH_SIZE)\n",
        "\n",
        "model.fit(train_set_aug,\n",
        "          steps_per_epoch=BATCHES_PER_EPOCH,\n",
        "          epochs=EPOCHS, \n",
        "          callbacks=[tensorboard_callback,tf.keras.callbacks.LearningRateScheduler(scheduler)],\n",
        "          validation_data = test_set,\n",
        "          validation_steps = VALIDATION_STEPS)"
      ],
      "execution_count": 52,
      "outputs": [
        {
          "output_type": "stream",
          "text": [
            "Train for 97 steps, validate for 19 steps\n",
            "Epoch 1/10\n",
            "97/97 [==============================] - 136s 1s/step - loss: 2.1832 - accuracy: 0.2135 - val_loss: 375.5044 - val_accuracy: 0.1293\n",
            "Epoch 2/10\n",
            "97/97 [==============================] - 96s 994ms/step - loss: 1.8753 - accuracy: 0.2994 - val_loss: 649.7538 - val_accuracy: 0.1001\n",
            "Epoch 3/10\n",
            "97/97 [==============================] - 96s 994ms/step - loss: 1.8254 - accuracy: 0.3353 - val_loss: 447.2818 - val_accuracy: 0.1072\n",
            "Epoch 4/10\n",
            "97/97 [==============================] - 96s 993ms/step - loss: 1.5684 - accuracy: 0.4274 - val_loss: 442.3229 - val_accuracy: 0.1103\n",
            "Epoch 5/10\n",
            "97/97 [==============================] - 97s 995ms/step - loss: 1.4218 - accuracy: 0.4811 - val_loss: 308.7060 - val_accuracy: 0.1352\n",
            "Epoch 6/10\n",
            "97/97 [==============================] - 96s 985ms/step - loss: 1.2867 - accuracy: 0.5320 - val_loss: 375.3914 - val_accuracy: 0.1161\n",
            "Epoch 7/10\n",
            "97/97 [==============================] - 96s 994ms/step - loss: 1.1704 - accuracy: 0.5769 - val_loss: 306.7232 - val_accuracy: 0.1245\n",
            "Epoch 8/10\n",
            "97/97 [==============================] - 96s 988ms/step - loss: 1.0874 - accuracy: 0.6110 - val_loss: 251.8174 - val_accuracy: 0.1259\n",
            "Epoch 9/10\n",
            "97/97 [==============================] - 96s 988ms/step - loss: 1.0189 - accuracy: 0.6379 - val_loss: 273.7736 - val_accuracy: 0.1292\n",
            "Epoch 10/10\n",
            "97/97 [==============================] - 95s 980ms/step - loss: 0.9551 - accuracy: 0.6621 - val_loss: 281.2240 - val_accuracy: 0.1353\n"
          ],
          "name": "stdout"
        },
        {
          "output_type": "execute_result",
          "data": {
            "text/plain": [
              "<tensorflow.python.keras.callbacks.History at 0x7f30b0673dd8>"
            ]
          },
          "metadata": {
            "tags": []
          },
          "execution_count": 52
        }
      ]
    },
    {
      "cell_type": "code",
      "metadata": {
        "id": "mOq1KeisWu6a",
        "colab_type": "code",
        "colab": {
          "base_uri": "https://localhost:8080/",
          "height": 202
        },
        "outputId": "2135f064-6bd6-413e-c165-59acd5b42e68"
      },
      "source": [
        "!tar -zcvf logs.tar.gz logs/profile/"
      ],
      "execution_count": 53,
      "outputs": [
        {
          "output_type": "stream",
          "text": [
            "logs/profile/\n",
            "logs/profile/20190920-173117/\n",
            "logs/profile/20190920-173117/train/\n",
            "logs/profile/20190920-173117/train/events.out.tfevents.1569000766.9cb675ed8ddd.profile-empty\n",
            "logs/profile/20190920-173117/train/plugins/\n",
            "logs/profile/20190920-173117/train/plugins/profile/\n",
            "logs/profile/20190920-173117/train/plugins/profile/2019-09-20_17-32-46/\n",
            "logs/profile/20190920-173117/train/plugins/profile/2019-09-20_17-32-46/local.trace\n",
            "logs/profile/20190920-173117/train/events.out.tfevents.1569000723.9cb675ed8ddd.123.21913.v2\n",
            "logs/profile/20190920-173117/validation/\n",
            "logs/profile/20190920-173117/validation/events.out.tfevents.1569000859.9cb675ed8ddd.123.24273.v2\n"
          ],
          "name": "stdout"
        }
      ]
    },
    {
      "cell_type": "code",
      "metadata": {
        "id": "wQsZcacPlUp9",
        "colab_type": "code",
        "colab": {}
      },
      "source": [
        "!rm -rf logs"
      ],
      "execution_count": 0,
      "outputs": []
    }
  ]
}