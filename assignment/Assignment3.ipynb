{
  "nbformat": 4,
  "nbformat_minor": 0,
  "metadata": {
    "colab": {
      "name": "Assignment3.ipynb",
      "version": "0.3.2",
      "provenance": [],
      "collapsed_sections": [],
      "include_colab_link": true
    },
    "kernelspec": {
      "name": "python3",
      "display_name": "Python 3"
    },
    "accelerator": "GPU"
  },
  "cells": [
    {
      "cell_type": "markdown",
      "metadata": {
        "id": "view-in-github",
        "colab_type": "text"
      },
      "source": [
        "<a href=\"https://colab.research.google.com/github/ApoorvaNagarajan/Image-Filter-Kernels/blob/master/assignment/Assignment3.ipynb\" target=\"_parent\"><img src=\"https://colab.research.google.com/assets/colab-badge.svg\" alt=\"Open In Colab\"/></a>"
      ]
    },
    {
      "cell_type": "markdown",
      "metadata": {
        "id": "aNyZv-Ec52ot",
        "colab_type": "text"
      },
      "source": [
        "# **Import Libraries and modules**"
      ]
    },
    {
      "cell_type": "code",
      "metadata": {
        "id": "3m3w1Cw49Zkt",
        "colab_type": "code",
        "outputId": "e64d7f59-5280-4a90-e0ce-eca22139482f",
        "colab": {
          "base_uri": "https://localhost:8080/",
          "height": 34
        }
      },
      "source": [
        "# https://keras.io/\n",
        "# import keras which is a deep learning python library. Keras is capable of\n",
        "# running on top of most of the opensource deep learning frameworks and makes \n",
        "# our life very easy\n",
        "!pip install -q keras\n",
        "import keras"
      ],
      "execution_count": 1,
      "outputs": [
        {
          "output_type": "stream",
          "text": [
            "Using TensorFlow backend.\n"
          ],
          "name": "stderr"
        }
      ]
    },
    {
      "cell_type": "code",
      "metadata": {
        "id": "Eso6UHE080D4",
        "colab_type": "code",
        "colab": {}
      },
      "source": [
        "#importing all the required utilities\n",
        "import numpy as np\n",
        "\n",
        "from keras.models import Sequential\n",
        "from keras.layers import Dense, Dropout, Activation, Flatten, Add\n",
        "from keras import optimizers\n",
        "from keras.layers import Convolution2D, MaxPooling2D\n",
        "from keras.utils import np_utils\n",
        "\n",
        "from keras.datasets import mnist"
      ],
      "execution_count": 0,
      "outputs": []
    },
    {
      "cell_type": "markdown",
      "metadata": {
        "id": "zByEi95J86RD",
        "colab_type": "text"
      },
      "source": [
        "### Load pre-shuffled MNIST data into train and test sets"
      ]
    },
    {
      "cell_type": "code",
      "metadata": {
        "id": "7eRM0QWN83PV",
        "colab_type": "code",
        "outputId": "d997764f-7afb-4460-aecb-76aedefaecd9",
        "colab": {
          "base_uri": "https://localhost:8080/",
          "height": 50
        }
      },
      "source": [
        "# load_data function downloads the MNIST dataset and splits it into test and train.\n",
        "# It returns 2 tuples containing test and train data\n",
        "# X_train is an array of images used for training\n",
        "# Y_train is an array of digit labels indicating the digits from 0 to 9 for the images in X_train\n",
        "# X_test is an array of images used for testing\n",
        "# Y_test is an array of digit labels indicating the digits from 0 to 9 for the images in X_test. This is used to validate our network output\n",
        "(X_train, y_train), (X_test, y_test) = mnist.load_data()"
      ],
      "execution_count": 3,
      "outputs": [
        {
          "output_type": "stream",
          "text": [
            "Downloading data from https://s3.amazonaws.com/img-datasets/mnist.npz\n",
            "11493376/11490434 [==============================] - 0s 0us/step\n"
          ],
          "name": "stdout"
        }
      ]
    },
    {
      "cell_type": "code",
      "metadata": {
        "id": "4a4Be72j8-ZC",
        "colab_type": "code",
        "outputId": "370a06d8-c57c-4985-b94d-2a2e63f376ae",
        "colab": {
          "base_uri": "https://localhost:8080/",
          "height": 302
        }
      },
      "source": [
        "# print the dimensions of the X_train array. From the output looks like there\n",
        "# are 60000 images of size 28x28\n",
        "print (X_train.shape)\n",
        "\n",
        "# import pyton plot libraries which help us visualize data\n",
        "from matplotlib import pyplot as plt\n",
        "%matplotlib inline\n",
        "\n",
        "# Visualize 1st image of the training set\n",
        "plt.imshow(X_train[0])"
      ],
      "execution_count": 4,
      "outputs": [
        {
          "output_type": "stream",
          "text": [
            "(60000, 28, 28)\n"
          ],
          "name": "stdout"
        },
        {
          "output_type": "execute_result",
          "data": {
            "text/plain": [
              "<matplotlib.image.AxesImage at 0x7f8ffb5d6e10>"
            ]
          },
          "metadata": {
            "tags": []
          },
          "execution_count": 4
        },
        {
          "output_type": "display_data",
          "data": {
            "image/png": "[encoded data removed]",
            "text/plain": [
              "<Figure size 432x288 with 1 Axes>"
            ]
          },
          "metadata": {
            "tags": []
          }
        }
      ]
    },
    {
      "cell_type": "code",
      "metadata": {
        "id": "dkmprriw9AnZ",
        "colab_type": "code",
        "colab": {}
      },
      "source": [
        "# X_train and X_test are reshaped from 3 dimensions to 4 dimensions\n",
        "# 1st dim : num images\n",
        "# 2nd and 3rd dim : Width and height of eaach of the images\n",
        "# 4th dim : number of channels in each of the image. We set this to 1 as the\n",
        "#           our dataset has only gray images\n",
        "X_train = X_train.reshape(X_train.shape[0], 28, 28,1)\n",
        "X_test = X_test.reshape(X_test.shape[0], 28, 28,1)"
      ],
      "execution_count": 0,
      "outputs": []
    },
    {
      "cell_type": "code",
      "metadata": {
        "id": "X2m4YS4E9CRh",
        "colab_type": "code",
        "colab": {}
      },
      "source": [
        "# We are normalizing our test and train images. This will make values of all\n",
        "# the pixels lie between 0 to 1. Normalization helps to maintain accuracy \n",
        "# even after a huge number of multiplications involved in multiple convolutions\n",
        "# First converting the datatype to float to support storing fractional values\n",
        "# resulting from normalization\n",
        "X_train = X_train.astype('float32')\n",
        "X_test = X_test.astype('float32')\n",
        "X_train /= 255\n",
        "X_test /= 255"
      ],
      "execution_count": 0,
      "outputs": []
    },
    {
      "cell_type": "code",
      "metadata": {
        "id": "0Mn0vAYD9DvB",
        "colab_type": "code",
        "outputId": "4ca27583-b0c3-414a-b8a3-ee105eca29c4",
        "colab": {
          "base_uri": "https://localhost:8080/",
          "height": 34
        }
      },
      "source": [
        "# print the first 10 traing image labels\n",
        "y_train[:10]"
      ],
      "execution_count": 7,
      "outputs": [
        {
          "output_type": "execute_result",
          "data": {
            "text/plain": [
              "array([5, 0, 4, 1, 9, 2, 1, 3, 1, 4], dtype=uint8)"
            ]
          },
          "metadata": {
            "tags": []
          },
          "execution_count": 7
        }
      ]
    },
    {
      "cell_type": "code",
      "metadata": {
        "id": "ZG8JiXR39FHC",
        "colab_type": "code",
        "colab": {}
      },
      "source": [
        "# Convert 1-dimensional class arrays to 10-dimensional class matrices\n",
        "Y_train = np_utils.to_categorical(y_train, 10)\n",
        "Y_test = np_utils.to_categorical(y_test, 10)"
      ],
      "execution_count": 0,
      "outputs": []
    },
    {
      "cell_type": "code",
      "metadata": {
        "id": "fYlFRvKS9HMB",
        "colab_type": "code",
        "outputId": "0e662650-3ee4-47d5-ce7b-ecf369896130",
        "colab": {
          "base_uri": "https://localhost:8080/",
          "height": 185
        }
      },
      "source": [
        "# print the class matrix for easy understanding of the class matrix\n",
        "Y_train[:10]\n"
      ],
      "execution_count": 9,
      "outputs": [
        {
          "output_type": "execute_result",
          "data": {
            "text/plain": [
              "array([[0., 0., 0., 0., 0., 1., 0., 0., 0., 0.],\n",
              "       [1., 0., 0., 0., 0., 0., 0., 0., 0., 0.],\n",
              "       [0., 0., 0., 0., 1., 0., 0., 0., 0., 0.],\n",
              "       [0., 1., 0., 0., 0., 0., 0., 0., 0., 0.],\n",
              "       [0., 0., 0., 0., 0., 0., 0., 0., 0., 1.],\n",
              "       [0., 0., 1., 0., 0., 0., 0., 0., 0., 0.],\n",
              "       [0., 1., 0., 0., 0., 0., 0., 0., 0., 0.],\n",
              "       [0., 0., 0., 1., 0., 0., 0., 0., 0., 0.],\n",
              "       [0., 1., 0., 0., 0., 0., 0., 0., 0., 0.],\n",
              "       [0., 0., 0., 0., 1., 0., 0., 0., 0., 0.]], dtype=float32)"
            ]
          },
          "metadata": {
            "tags": []
          },
          "execution_count": 9
        }
      ]
    },
    {
      "cell_type": "code",
      "metadata": {
        "id": "osKqT73Q9JJB",
        "colab_type": "code",
        "outputId": "0d4d985c-b20a-451e-bf6d-d6dfde764ce1",
        "colab": {
          "base_uri": "https://localhost:8080/",
          "height": 171
        }
      },
      "source": [
        "# This code defines our network\n",
        "\n",
        "# import libraries for Activation and MaxPooling2D layers from keras\n",
        "from keras.layers import Activation, BatchNormalization\n",
        "\n",
        "# Our model is a sequential model. We are going to stack layers one after the other\n",
        "model = Sequential()\n",
        "\n",
        "##########################################################\n",
        "\n",
        "# Original : params 68k , accuracy 0.9829, epochs 10\n",
        "\n",
        "#model.add(Convolution2D(32, 3, 3, activation='relu', input_shape=(28,28,1)))\n",
        "#model.add(Convolution2D(10, 1, activation='relu'))\n",
        "#model.add(Convolution2D(10, 26))\n",
        "#model.add(Flatten())\n",
        "#model.add(Activation('softmax'))\n",
        "\n",
        "##########################################################\n",
        "\n",
        "# Try 1 : params 2lakh , accuracy 0.9933 , epochs 8\n",
        "\n",
        "#model.add(Convolution2D(32, 3, 3, activation='relu', input_shape=(28,28,1)))\n",
        "#model.add(Convolution2D(64, 3, 3, activation='relu'))\n",
        "#model.add(Convolution2D(128, 3, 3, activation='relu'))\n",
        "\n",
        "#model.add(MaxPooling2D(pool_size=(2, 2)))\n",
        "#model.add(Convolution2D(32, 1, 1, activation='relu'))\n",
        "\n",
        "#model.add(Convolution2D(64, 3, 3, activation='relu'))\n",
        "#model.add(Convolution2D(128, 3, 3, activation='relu'))\n",
        "#model.add(Convolution2D(256, 3, 3, activation='relu'))\n",
        "#model.add(Convolution2D(1024, 3, 3, activation='relu'))\n",
        "#model.add(Convolution2D(10, 3, 3))\n",
        "\n",
        "#model.add(Flatten())\n",
        "#model.add(Activation('softmax'))\n",
        "\n",
        "\n",
        "##########################################################\n",
        "\n",
        "# Try 2 : params --- , accuracy 0.99 , epochs 10 \n",
        "# Tried to reduce parameters\n",
        "\n",
        "\n",
        "#model.add(Convolution2D(32, 3, 3, activation='relu', input_shape=(28,28,1)))\n",
        "#model.add(Convolution2D(64, 3, 3, activation='relu'))\n",
        "#model.add(Convolution2D(64, 3, 3, activation='relu'))\n",
        "#model.add(Convolution2D(64, 3, 3, activation='relu'))\n",
        "#model.add(Convolution2D(64, 3, 3, activation='relu'))\n",
        "#model.add(MaxPooling2D(pool_size=(2, 2)))\n",
        "#model.add(Convolution2D(64, 3, 3, activation='relu'))\n",
        "#model.add(Convolution2D(64, 3, 3, activation='relu'))\n",
        "#model.add(Convolution2D(64, 3, 3, activation='relu'))\n",
        "#model.add(Convolution2D(10, 3))\n",
        "#model.add(Flatten())\n",
        "#model.add(Activation('softmax'))\n",
        "\n",
        "##########################################################\n",
        "\n",
        "# Try 3 : params 15.5k , accuracy 0.9923 , epochs 10 \n",
        "# Tried to reduce parameters further\n",
        "\n",
        "#model.add(Convolution2D(32, 3, 3, activation='relu', input_shape=(28,28,1)))\n",
        "#model.add(BatchNormalization())\n",
        "#model.add(Convolution2D(32, kernel_size=(3, 3), strides=(2,2), activation='relu'))\n",
        "#model.add(BatchNormalization())\n",
        "#model.add(Convolution2D(10, 1, 1, activation='relu'))\n",
        "#model.add(Convolution2D(10, 3, 3, activation='relu'))\n",
        "#model.add(BatchNormalization())\n",
        "#model.add(Dropout(0.05))\n",
        "#model.add(Convolution2D(10, 3, 3, activation='relu'))\n",
        "#model.add(BatchNormalization())\n",
        "#model.add(Dropout(0.05))\n",
        "#model.add(Convolution2D(10, 3, 3, activation='relu'))\n",
        "#model.add(BatchNormalization())\n",
        "#model.add(Dropout(0.05))\n",
        "#model.add(Convolution2D(10, 3, 3, activation='relu'))\n",
        "#model.add(BatchNormalization())\n",
        "#model.add(Convolution2D(10, 4, 4))\n",
        "#model.add(Flatten())\n",
        "#model.add(Activation('softmax'))\n",
        "\n",
        "##########################################################\n",
        "\n",
        "# Tried various other tweaks\n",
        "\n",
        "##########################################################\n",
        "\n",
        "# Try N : params 15.5k , accuracy 0.9923 , epochs 10 \n",
        "# Tried to improve accuracy\n",
        "\n",
        " \n",
        "model.add(Convolution2D(32, 3, 3, activation='relu', input_shape=(28,28,1)))\n",
        "model.add(BatchNormalization())\n",
        "model.add(Convolution2D(32, 3, 3, activation='relu'))\n",
        "model.add(BatchNormalization())\n",
        "model.add(Convolution2D(16, 3, 3, activation='relu'))\n",
        "model.add(BatchNormalization())\n",
        "\n",
        "model.add(MaxPooling2D(pool_size=(2, 2)))\n",
        "model.add(Convolution2D(10, 1, 1, activation='relu'))\n",
        "model.add(BatchNormalization())\n",
        "model.add(Dropout(0.25))\n",
        "model.add(Convolution2D(10, 3, 3, activation='relu'))\n",
        "model.add(BatchNormalization())\n",
        "model.add(Dropout(0.25))\n",
        "model.add(Convolution2D(10, 3, 3, activation='relu'))\n",
        "model.add(BatchNormalization())\n",
        "model.add(Dropout(0.25))\n",
        "model.add(Convolution2D(10, 3, 3, activation='relu'))\n",
        "model.add(BatchNormalization())\n",
        "model.add(Dropout(0.25))\n",
        "model.add(Convolution2D(10, 5, 5))\n",
        "\n",
        "model.add(Flatten())\n",
        "model.add(Activation('softmax'))"
      ],
      "execution_count": 37,
      "outputs": [
        {
          "output_type": "stream",
          "text": [
            "/usr/local/lib/python3.6/dist-packages/ipykernel_launcher.py:87: UserWarning: Update your `Conv2D` call to the Keras 2 API: `Conv2D(32, (3, 3), activation=\"relu\", input_shape=(28, 28, 1...)`\n",
            "/usr/local/lib/python3.6/dist-packages/ipykernel_launcher.py:89: UserWarning: Update your `Conv2D` call to the Keras 2 API: `Conv2D(32, (3, 3), activation=\"relu\")`\n",
            "/usr/local/lib/python3.6/dist-packages/ipykernel_launcher.py:91: UserWarning: Update your `Conv2D` call to the Keras 2 API: `Conv2D(16, (3, 3), activation=\"relu\")`\n",
            "/usr/local/lib/python3.6/dist-packages/ipykernel_launcher.py:95: UserWarning: Update your `Conv2D` call to the Keras 2 API: `Conv2D(10, (1, 1), activation=\"relu\")`\n",
            "/usr/local/lib/python3.6/dist-packages/ipykernel_launcher.py:98: UserWarning: Update your `Conv2D` call to the Keras 2 API: `Conv2D(10, (3, 3), activation=\"relu\")`\n",
            "/usr/local/lib/python3.6/dist-packages/ipykernel_launcher.py:101: UserWarning: Update your `Conv2D` call to the Keras 2 API: `Conv2D(10, (3, 3), activation=\"relu\")`\n",
            "/usr/local/lib/python3.6/dist-packages/ipykernel_launcher.py:104: UserWarning: Update your `Conv2D` call to the Keras 2 API: `Conv2D(10, (3, 3), activation=\"relu\")`\n",
            "/usr/local/lib/python3.6/dist-packages/ipykernel_launcher.py:107: UserWarning: Update your `Conv2D` call to the Keras 2 API: `Conv2D(10, (5, 5))`\n"
          ],
          "name": "stderr"
        }
      ]
    },
    {
      "cell_type": "code",
      "metadata": {
        "id": "TzdAYg1k9K7Z",
        "colab_type": "code",
        "outputId": "45a4fa8a-18ad-4a06-d02f-128f141b5f30",
        "colab": {
          "base_uri": "https://localhost:8080/",
          "height": 874
        }
      },
      "source": [
        "model.summary()"
      ],
      "execution_count": 38,
      "outputs": [
        {
          "output_type": "stream",
          "text": [
            "_________________________________________________________________\n",
            "Layer (type)                 Output Shape              Param #   \n",
            "=================================================================\n",
            "conv2d_49 (Conv2D)           (None, 26, 26, 32)        320       \n",
            "_________________________________________________________________\n",
            "batch_normalization_43 (Batc (None, 26, 26, 32)        128       \n",
            "_________________________________________________________________\n",
            "conv2d_50 (Conv2D)           (None, 24, 24, 32)        9248      \n",
            "_________________________________________________________________\n",
            "batch_normalization_44 (Batc (None, 24, 24, 32)        128       \n",
            "_________________________________________________________________\n",
            "conv2d_51 (Conv2D)           (None, 22, 22, 16)        4624      \n",
            "_________________________________________________________________\n",
            "batch_normalization_45 (Batc (None, 22, 22, 16)        64        \n",
            "_________________________________________________________________\n",
            "max_pooling2d_7 (MaxPooling2 (None, 11, 11, 16)        0         \n",
            "_________________________________________________________________\n",
            "conv2d_52 (Conv2D)           (None, 11, 11, 10)        170       \n",
            "_________________________________________________________________\n",
            "batch_normalization_46 (Batc (None, 11, 11, 10)        40        \n",
            "_________________________________________________________________\n",
            "dropout_25 (Dropout)         (None, 11, 11, 10)        0         \n",
            "_________________________________________________________________\n",
            "conv2d_53 (Conv2D)           (None, 9, 9, 10)          910       \n",
            "_________________________________________________________________\n",
            "batch_normalization_47 (Batc (None, 9, 9, 10)          40        \n",
            "_________________________________________________________________\n",
            "dropout_26 (Dropout)         (None, 9, 9, 10)          0         \n",
            "_________________________________________________________________\n",
            "conv2d_54 (Conv2D)           (None, 7, 7, 10)          910       \n",
            "_________________________________________________________________\n",
            "batch_normalization_48 (Batc (None, 7, 7, 10)          40        \n",
            "_________________________________________________________________\n",
            "dropout_27 (Dropout)         (None, 7, 7, 10)          0         \n",
            "_________________________________________________________________\n",
            "conv2d_55 (Conv2D)           (None, 5, 5, 10)          910       \n",
            "_________________________________________________________________\n",
            "batch_normalization_49 (Batc (None, 5, 5, 10)          40        \n",
            "_________________________________________________________________\n",
            "dropout_28 (Dropout)         (None, 5, 5, 10)          0         \n",
            "_________________________________________________________________\n",
            "conv2d_56 (Conv2D)           (None, 1, 1, 10)          2510      \n",
            "_________________________________________________________________\n",
            "flatten_7 (Flatten)          (None, 10)                0         \n",
            "_________________________________________________________________\n",
            "activation_7 (Activation)    (None, 10)                0         \n",
            "=================================================================\n",
            "Total params: 20,082\n",
            "Trainable params: 19,842\n",
            "Non-trainable params: 240\n",
            "_________________________________________________________________\n"
          ],
          "name": "stdout"
        }
      ]
    },
    {
      "cell_type": "code",
      "metadata": {
        "id": "Zp6SuGrL9M3h",
        "colab_type": "code",
        "colab": {}
      },
      "source": [
        "optimizers.Adam(lr=0.1, beta_1=0.9, beta_2=0.999, epsilon=None, decay=0.00, amsgrad=False)\n",
        "model.compile(loss='categorical_crossentropy',\n",
        "             optimizer='adam',\n",
        "             metrics=['accuracy'])"
      ],
      "execution_count": 0,
      "outputs": []
    },
    {
      "cell_type": "code",
      "metadata": {
        "id": "4xWoKhPY9Of5",
        "colab_type": "code",
        "outputId": "abc0280f-4bb0-4647-bd53-72a000b73133",
        "colab": {
          "base_uri": "https://localhost:8080/",
          "height": 420
        }
      },
      "source": [
        "model.fit(X_train, Y_train, batch_size=32, nb_epoch=10,\n",
        "             validation_data=(X_test, Y_test), verbose=1)\n"
      ],
      "execution_count": 48,
      "outputs": [
        {
          "output_type": "stream",
          "text": [
            "/usr/local/lib/python3.6/dist-packages/ipykernel_launcher.py:2: UserWarning: The `nb_epoch` argument in `fit` has been renamed `epochs`.\n",
            "  \n"
          ],
          "name": "stderr"
        },
        {
          "output_type": "stream",
          "text": [
            "Train on 60000 samples, validate on 10000 samples\n",
            "Epoch 1/10\n",
            "60000/60000 [==============================] - 47s 781us/step - loss: 0.0380 - acc: 0.9881 - val_loss: 0.0243 - val_acc: 0.9917\n",
            "Epoch 2/10\n",
            "60000/60000 [==============================] - 42s 704us/step - loss: 0.0378 - acc: 0.9879 - val_loss: 0.0261 - val_acc: 0.9920\n",
            "Epoch 3/10\n",
            "60000/60000 [==============================] - 42s 704us/step - loss: 0.0388 - acc: 0.9878 - val_loss: 0.0226 - val_acc: 0.9926\n",
            "Epoch 4/10\n",
            "60000/60000 [==============================] - 42s 703us/step - loss: 0.0364 - acc: 0.9882 - val_loss: 0.0238 - val_acc: 0.9931\n",
            "Epoch 5/10\n",
            "60000/60000 [==============================] - 42s 703us/step - loss: 0.0358 - acc: 0.9883 - val_loss: 0.0244 - val_acc: 0.9927\n",
            "Epoch 6/10\n",
            "60000/60000 [==============================] - 42s 701us/step - loss: 0.0345 - acc: 0.9894 - val_loss: 0.0294 - val_acc: 0.9908\n",
            "Epoch 7/10\n",
            "60000/60000 [==============================] - 43s 715us/step - loss: 0.0337 - acc: 0.9891 - val_loss: 0.0289 - val_acc: 0.9920\n",
            "Epoch 8/10\n",
            "60000/60000 [==============================] - 42s 705us/step - loss: 0.0335 - acc: 0.9893 - val_loss: 0.0246 - val_acc: 0.9921\n",
            "Epoch 9/10\n",
            "60000/60000 [==============================] - 42s 707us/step - loss: 0.0340 - acc: 0.9890 - val_loss: 0.0231 - val_acc: 0.9926\n",
            "Epoch 10/10\n",
            "60000/60000 [==============================] - 42s 705us/step - loss: 0.0340 - acc: 0.9893 - val_loss: 0.0247 - val_acc: 0.9933\n"
          ],
          "name": "stdout"
        },
        {
          "output_type": "execute_result",
          "data": {
            "text/plain": [
              "<keras.callbacks.History at 0x7f8fd4607240>"
            ]
          },
          "metadata": {
            "tags": []
          },
          "execution_count": 48
        }
      ]
    },
    {
      "cell_type": "code",
      "metadata": {
        "id": "0YzXg8HC7iCN",
        "colab_type": "code",
        "colab": {
          "base_uri": "https://localhost:8080/",
          "height": 440
        },
        "outputId": "57e4c10b-3881-4329-cf06-540c7cbc2cd5"
      },
      "source": [
        "model.fit(X_train, Y_train, batch_size=512, nb_epoch=10,\n",
        "            validation_data=(X_test, Y_test), verbose=1)\n"
      ],
      "execution_count": 49,
      "outputs": [
        {
          "output_type": "stream",
          "text": [
            "Train on 60000 samples, validate on 10000 samples\n",
            "Epoch 1/10\n",
            " 1024/60000 [..............................] - ETA: 9s - loss: 0.0310 - acc: 0.9873"
          ],
          "name": "stdout"
        },
        {
          "output_type": "stream",
          "text": [
            "/usr/local/lib/python3.6/dist-packages/ipykernel_launcher.py:2: UserWarning: The `nb_epoch` argument in `fit` has been renamed `epochs`.\n",
            "  \n"
          ],
          "name": "stderr"
        },
        {
          "output_type": "stream",
          "text": [
            "60000/60000 [==============================] - 8s 136us/step - loss: 0.0258 - acc: 0.9915 - val_loss: 0.0208 - val_acc: 0.9940\n",
            "Epoch 2/10\n",
            "60000/60000 [==============================] - 8s 134us/step - loss: 0.0217 - acc: 0.9932 - val_loss: 0.0199 - val_acc: 0.9943\n",
            "Epoch 3/10\n",
            "60000/60000 [==============================] - 8s 134us/step - loss: 0.0220 - acc: 0.9926 - val_loss: 0.0195 - val_acc: 0.9943\n",
            "Epoch 4/10\n",
            "60000/60000 [==============================] - 8s 132us/step - loss: 0.0211 - acc: 0.9934 - val_loss: 0.0195 - val_acc: 0.9945\n",
            "Epoch 5/10\n",
            "60000/60000 [==============================] - 8s 133us/step - loss: 0.0207 - acc: 0.9935 - val_loss: 0.0192 - val_acc: 0.9943\n",
            "Epoch 6/10\n",
            "60000/60000 [==============================] - 8s 134us/step - loss: 0.0212 - acc: 0.9928 - val_loss: 0.0195 - val_acc: 0.9947\n",
            "Epoch 7/10\n",
            "60000/60000 [==============================] - 8s 134us/step - loss: 0.0187 - acc: 0.9942 - val_loss: 0.0198 - val_acc: 0.9943\n",
            "Epoch 8/10\n",
            "60000/60000 [==============================] - 8s 133us/step - loss: 0.0202 - acc: 0.9934 - val_loss: 0.0196 - val_acc: 0.9946\n",
            "Epoch 9/10\n",
            "60000/60000 [==============================] - 8s 134us/step - loss: 0.0194 - acc: 0.9936 - val_loss: 0.0196 - val_acc: 0.9944\n",
            "Epoch 10/10\n",
            "60000/60000 [==============================] - 8s 131us/step - loss: 0.0197 - acc: 0.9935 - val_loss: 0.0196 - val_acc: 0.9946\n"
          ],
          "name": "stdout"
        },
        {
          "output_type": "execute_result",
          "data": {
            "text/plain": [
              "<keras.callbacks.History at 0x7f8fd378e780>"
            ]
          },
          "metadata": {
            "tags": []
          },
          "execution_count": 49
        }
      ]
    },
    {
      "cell_type": "code",
      "metadata": {
        "id": "AtsH-lLk-eLb",
        "colab_type": "code",
        "colab": {}
      },
      "source": [
        "# Evaluate the fitted predictor and compare with the ground truth to give us a metric score\n",
        "# Returns 2 values\n",
        "# 1st loss values\n",
        "# 2nd metric value. we have configured metric to accuracy. So we will get back accuracy\n",
        "score = model.evaluate(X_test, Y_test, verbose=0)"
      ],
      "execution_count": 0,
      "outputs": []
    },
    {
      "cell_type": "code",
      "metadata": {
        "id": "mkX8JMv79q9r",
        "colab_type": "code",
        "outputId": "6ef57f05-c543-4501-cd76-563fa492f701",
        "colab": {
          "base_uri": "https://localhost:8080/",
          "height": 34
        }
      },
      "source": [
        "# print the returned score. Outut indicates that the network is very bad and inaccurate\n",
        "print(score)"
      ],
      "execution_count": 51,
      "outputs": [
        {
          "output_type": "stream",
          "text": [
            "[0.01959680400301295, 0.9946]\n"
          ],
          "name": "stdout"
        }
      ]
    },
    {
      "cell_type": "code",
      "metadata": {
        "id": "OCWoJkwE9suh",
        "colab_type": "code",
        "colab": {}
      },
      "source": [
        "# Generate the predicted output for the test images\n",
        "y_pred = model.predict(X_test)"
      ],
      "execution_count": 0,
      "outputs": []
    },
    {
      "cell_type": "code",
      "metadata": {
        "id": "Ym7iCFBm9uBs",
        "colab_type": "code",
        "outputId": "3e3ba232-1d29-4def-b44c-ee1333cf9324",
        "colab": {
          "base_uri": "https://localhost:8080/",
          "height": 487
        }
      },
      "source": [
        "# Just print first 9 predicted values and ground truth values to visualize how\n",
        "# inaccurate the network is\n",
        "print(y_pred[:9])\n",
        "print(y_test[:9])"
      ],
      "execution_count": 53,
      "outputs": [
        {
          "output_type": "stream",
          "text": [
            "[[5.91087509e-12 3.57370378e-09 1.17382427e-07 5.69399061e-09\n",
            "  1.30349602e-13 9.72308779e-12 2.71628093e-15 9.99999881e-01\n",
            "  2.90170210e-12 1.87524529e-09]\n",
            " [7.06727496e-06 5.80247615e-06 9.99983191e-01 1.01019648e-09\n",
            "  1.05639245e-07 6.58342955e-12 3.79454264e-06 2.53814525e-10\n",
            "  1.22204857e-09 2.73653850e-10]\n",
            " [2.42418565e-08 9.99997854e-01 1.08445711e-07 1.40800802e-08\n",
            "  3.77429188e-07 1.79865189e-08 7.42631471e-07 7.59882141e-07\n",
            "  2.39136373e-08 4.42620482e-08]\n",
            " [9.99909997e-01 1.46767945e-10 4.44444339e-08 7.46399476e-09\n",
            "  1.19067833e-09 2.36291289e-08 8.96660567e-05 7.34226502e-09\n",
            "  1.21500676e-07 1.24636827e-07]\n",
            " [1.39792877e-09 3.27467475e-09 3.03037204e-08 9.15251416e-11\n",
            "  9.99997258e-01 4.52747340e-10 6.07195858e-08 3.02587253e-08\n",
            "  6.71099931e-09 2.56066392e-06]\n",
            " [3.92717183e-08 9.99967456e-01 3.52110533e-07 4.90158536e-09\n",
            "  6.15885438e-06 9.90901139e-09 4.50727015e-07 2.50539106e-05\n",
            "  6.98770677e-08 4.42297164e-07]\n",
            " [8.10240000e-11 7.01831937e-07 2.96630560e-08 5.43291856e-09\n",
            "  9.99686360e-01 2.62735949e-08 7.45276230e-10 1.79364928e-04\n",
            "  3.27845737e-06 1.30263346e-04]\n",
            " [2.84628896e-07 1.80351525e-10 1.00503499e-07 1.40829313e-08\n",
            "  3.25754513e-06 1.21764621e-09 5.62441673e-12 3.22111333e-08\n",
            "  2.46751011e-08 9.99996305e-01]\n",
            " [7.31127102e-06 6.62497791e-12 2.62838618e-09 5.97809901e-07\n",
            "  5.78853805e-11 9.24357891e-01 7.45403096e-02 2.05182357e-10\n",
            "  1.09372078e-03 1.05801753e-07]]\n",
            "[7 2 1 0 4 1 4 9 5]\n"
          ],
          "name": "stdout"
        }
      ]
    },
    {
      "cell_type": "code",
      "metadata": {
        "id": "CT--y98_dr2T",
        "colab_type": "code",
        "colab": {}
      },
      "source": [
        "layer_dict = dict([(layer.name, layer) for layer in model.layers])"
      ],
      "execution_count": 0,
      "outputs": []
    },
    {
      "cell_type": "code",
      "metadata": {
        "id": "2GY4Upv4dsUR",
        "colab_type": "code",
        "outputId": "55ebb5b7-8cc0-4426-9205-1e1993b27b37",
        "colab": {
          "base_uri": "https://localhost:8080/",
          "height": 837
        }
      },
      "source": [
        "#Visualization of kernel activation\n",
        "\n",
        "import numpy as np\n",
        "from matplotlib import pyplot as plt\n",
        "from keras import backend as K\n",
        "%matplotlib inline\n",
        "# util function to convert a tensor into a valid image\n",
        "def deprocess_image(x):\n",
        "    # normalize tensor: center on 0., ensure std is 0.1\n",
        "    x -= x.mean()\n",
        "    x /= (x.std() + 1e-5)\n",
        "    x *= 0.1\n",
        "\n",
        "    # clip to [0, 1]\n",
        "    x += 0.5\n",
        "    x = np.clip(x, 0, 1)\n",
        "\n",
        "    # convert to RGB array\n",
        "    x *= 255\n",
        "    #x = x.transpose((1, 2, 0))\n",
        "    x = np.clip(x, 0, 255).astype('uint8')\n",
        "    return x\n",
        "\n",
        "def vis_img_in_filter(img = np.array(X_train[2]).reshape((1, 28, 28, 1)).astype(np.float64), \n",
        "                      layer_name = 'conv2d_49'):\n",
        "    layer_output = layer_dict[layer_name].output\n",
        "    img_ascs = list()\n",
        "    for filter_index in range(layer_output.shape[3]):\n",
        "        # build a loss function that maximizes the activation\n",
        "        # of the nth filter of the layer considered\n",
        "        loss = K.mean(layer_output[:, :, :, filter_index])\n",
        "\n",
        "        # compute the gradient of the input picture wrt this loss\n",
        "        grads = K.gradients(loss, model.input)[0]\n",
        "\n",
        "        # normalization trick: we normalize the gradient\n",
        "        grads /= (K.sqrt(K.mean(K.square(grads))) + 1e-5)\n",
        "\n",
        "        # this function returns the loss and grads given the input picture\n",
        "        iterate = K.function([model.input], [loss, grads])\n",
        "\n",
        "        # step size for gradient ascent\n",
        "        step = 5.\n",
        "\n",
        "        img_asc = np.array(img)\n",
        "        # run gradient ascent for 20 steps\n",
        "        for i in range(20):\n",
        "            loss_value, grads_value = iterate([img_asc])\n",
        "            img_asc += grads_value * step\n",
        "\n",
        "        img_asc = img_asc[0]\n",
        "        img_ascs.append(deprocess_image(img_asc).reshape((28, 28)))\n",
        "        \n",
        "    if layer_output.shape[3] >= 35:\n",
        "        plot_x, plot_y = 6, 6\n",
        "    elif layer_output.shape[3] >= 23:\n",
        "        plot_x, plot_y = 4, 6\n",
        "    elif layer_output.shape[3] >= 11:\n",
        "        plot_x, plot_y = 2, 6\n",
        "    else:\n",
        "        plot_x, plot_y = 2, 5\n",
        "    fig, ax = plt.subplots(plot_x, plot_y, figsize = (12, 12))\n",
        "    ax[0, 0].imshow(img.reshape((28, 28)), cmap = 'gray')\n",
        "    ax[0, 0].set_title('Input image')\n",
        "    fig.suptitle('Input image and %s filters' % (layer_name,))\n",
        "    fig.tight_layout(pad = 0.3, rect = [0, 0, 0.9, 0.9])\n",
        "    for (x, y) in [(i, j) for i in range(plot_x) for j in range(plot_y)]:\n",
        "        if x == 0 and y == 0:\n",
        "            continue\n",
        "        ax[x, y].imshow(img_ascs[x * plot_y + y - 1], cmap = 'gray')\n",
        "        ax[x, y].set_title('filter %d' % (x * plot_y + y - 1))\n",
        "\n",
        "vis_img_in_filter()"
      ],
      "execution_count": 56,
      "outputs": [
        {
          "output_type": "display_data",
          "data": {
            "image/png": "[encoded data removed]",
            "text/plain": [
              "<Figure size 864x864 with 24 Axes>"
            ]
          },
          "metadata": {
            "tags": []
          }
        }
      ]
    },
    {
      "cell_type": "code",
      "metadata": {
        "id": "9tvptcn8dxvp",
        "colab_type": "code",
        "colab": {}
      },
      "source": [
        ""
      ],
      "execution_count": 0,
      "outputs": []
    }
  ]
}