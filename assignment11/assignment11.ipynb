{
  "nbformat": 4,
  "nbformat_minor": 0,
  "metadata": {
    "colab": {
      "name": "assignment11.ipynb",
      "version": "0.3.2",
      "provenance": [],
      "collapsed_sections": [],
      "include_colab_link": true
    },
    "kernelspec": {
      "name": "python3",
      "display_name": "Python 3"
    },
    "accelerator": "GPU"
  },
  "cells": [
    {
      "cell_type": "markdown",
      "metadata": {
        "id": "view-in-github",
        "colab_type": "text"
      },
      "source": [
        "<a href=\"https://colab.research.google.com/github/ApoorvaNagarajan/Image-Filter-Kernels/blob/master/assignment11/assignment11.ipynb\" target=\"_parent\"><img src=\"https://colab.research.google.com/assets/colab-badge.svg\" alt=\"Open In Colab\"/></a>"
      ]
    },
    {
      "cell_type": "markdown",
      "metadata": {
        "id": "BX56wA2BXNej",
        "colab_type": "text"
      },
      "source": [
        "# **Importing all python packages**"
      ]
    },
    {
      "cell_type": "code",
      "metadata": {
        "id": "NwZVbsWJXjM0",
        "colab_type": "code",
        "colab": {}
      },
      "source": [
        "# Put these at the top of every notebook, to get automatic reloading and inline plotting\n",
        "%reload_ext autoreload\n",
        "%autoreload 2\n",
        "%matplotlib inline"
      ],
      "execution_count": 0,
      "outputs": []
    },
    {
      "cell_type": "code",
      "metadata": {
        "id": "KkwXnw9OfHZl",
        "colab_type": "code",
        "outputId": "c4ebacd2-f2d7-4c51-cdaf-7fd9e3d1e62d",
        "colab": {
          "base_uri": "https://localhost:8080/",
          "height": 34
        }
      },
      "source": [
        "from keras import backend as K\n",
        "import time\n",
        "import matplotlib.pyplot as plt\n",
        "import numpy as np\n",
        "np.random.seed(2017) \n",
        "from keras import regularizers\n",
        "from keras.models import Sequential\n",
        "from keras.layers.convolutional import Convolution2D, MaxPooling2D,AveragePooling2D\n",
        "from keras.layers import Activation, Flatten, Dense, Dropout\n",
        "from keras.layers.normalization import BatchNormalization\n",
        "from keras.utils import np_utils\n",
        "from keras.preprocessing.image import ImageDataGenerator\n",
        "from keras.datasets import cifar10"
      ],
      "execution_count": 2,
      "outputs": [
        {
          "output_type": "stream",
          "text": [
            "Using TensorFlow backend.\n"
          ],
          "name": "stderr"
        }
      ]
    },
    {
      "cell_type": "markdown",
      "metadata": {
        "id": "8O8X1pdoXvmq",
        "colab_type": "text"
      },
      "source": [
        "# Load CIFAR10 dataset"
      ]
    },
    {
      "cell_type": "code",
      "metadata": {
        "id": "NHpnoCHZfO8g",
        "colab_type": "code",
        "colab": {}
      },
      "source": [
        "# load CIFAR10 dataset\n",
        "(train_features, train_labels), (test_features, test_labels) = cifar10.load_data()\n",
        "num_train, img_rows, img_cols,img_channels =  train_features.shape\n",
        "num_test, _, _, _ =  test_features.shape\n",
        "num_classes = len(np.unique(train_labels))"
      ],
      "execution_count": 0,
      "outputs": []
    },
    {
      "cell_type": "code",
      "metadata": {
        "id": "2R9KHV8A19cw",
        "colab_type": "code",
        "outputId": "43154cdb-ecb6-4e7f-c1a4-b571ff0d8ed0",
        "colab": {
          "base_uri": "https://localhost:8080/",
          "height": 67
        }
      },
      "source": [
        "print (num_classes)\n",
        "print (num_train)\n",
        "print (train_features.shape)"
      ],
      "execution_count": 7,
      "outputs": [
        {
          "output_type": "stream",
          "text": [
            "10\n",
            "50000\n",
            "(50000, 32, 32, 3)\n"
          ],
          "name": "stdout"
        }
      ]
    },
    {
      "cell_type": "code",
      "metadata": {
        "id": "14HyBUXdfS6G",
        "colab_type": "code",
        "outputId": "fdf04338-5d44-4c4b-dffd-2ec67afdc3eb",
        "colab": {
          "base_uri": "https://localhost:8080/",
          "height": 213
        }
      },
      "source": [
        "class_names = ['airplane','automobile','bird','cat','deer',\n",
        "               'dog','frog','horse','ship','truck']\n",
        "fig = plt.figure(figsize=(8,3))\n",
        "for i in range(num_classes):\n",
        "    ax = fig.add_subplot(2, 5, 1 + i, xticks=[], yticks=[])\n",
        "    idx = np.where(train_labels[:]==i)[0]\n",
        "    features_idx = train_features[idx,::]\n",
        "    img_num = np.random.randint(features_idx.shape[0])\n",
        "    im = features_idx[img_num]\n",
        "    ax.set_title(class_names[i])\n",
        "    plt.imshow(im)\n",
        "plt.show()"
      ],
      "execution_count": 8,
      "outputs": [
        {
          "output_type": "display_data",
          "data": {
            "image/png": "[encoded data removed]",
            "text/plain": [
              "<Figure size 576x216 with 10 Axes>"
            ]
          },
          "metadata": {
            "tags": []
          }
        }
      ]
    },
    {
      "cell_type": "markdown",
      "metadata": {
        "id": "fX2zE6RoYpbz",
        "colab_type": "text"
      },
      "source": [
        "# Utility functions"
      ]
    },
    {
      "cell_type": "code",
      "metadata": {
        "id": "bmfsk76-fadV",
        "colab_type": "code",
        "colab": {}
      },
      "source": [
        "def plot_model_history(model_history):\n",
        "    fig, axs = plt.subplots(1,2,figsize=(15,5))\n",
        "    # summarize history for accuracy\n",
        "    axs[0].plot(range(1,len(model_history.history['acc'])+1),model_history.history['acc'])\n",
        "    axs[0].plot(range(1,len(model_history.history['val_acc'])+1),model_history.history['val_acc'])\n",
        "    axs[0].set_title('Model Accuracy')\n",
        "    axs[0].set_ylabel('Accuracy')\n",
        "    axs[0].set_xlabel('Epoch')\n",
        "    axs[0].set_xticks(np.arange(1,len(model_history.history['acc'])+1),len(model_history.history['acc'])/10)\n",
        "    axs[0].legend(['train', 'val'], loc='best')\n",
        "    # summarize history for loss\n",
        "    axs[1].plot(range(1,len(model_history.history['loss'])+1),model_history.history['loss'])\n",
        "    axs[1].plot(range(1,len(model_history.history['val_loss'])+1),model_history.history['val_loss'])\n",
        "    axs[1].set_title('Model Loss')\n",
        "    axs[1].set_ylabel('Loss')\n",
        "    axs[1].set_xlabel('Epoch')\n",
        "    axs[1].set_xticks(np.arange(1,len(model_history.history['loss'])+1),len(model_history.history['loss'])/10)\n",
        "    axs[1].legend(['train', 'val'], loc='best')\n",
        "    plt.show()"
      ],
      "execution_count": 0,
      "outputs": []
    },
    {
      "cell_type": "code",
      "metadata": {
        "id": "YJMT4rjgfdZz",
        "colab_type": "code",
        "colab": {}
      },
      "source": [
        "def accuracy(test_x, test_y, model):\n",
        "    result = model.predict(test_x)\n",
        "    predicted_class = np.argmax(result, axis=1)\n",
        "    true_class = np.argmax(test_y, axis=1)\n",
        "    num_correct = np.sum(predicted_class == true_class) \n",
        "    accuracy = float(num_correct)/result.shape[0]\n",
        "    return (accuracy * 100)"
      ],
      "execution_count": 0,
      "outputs": []
    },
    {
      "cell_type": "markdown",
      "metadata": {
        "id": "rs-RqAJjfaTX",
        "colab_type": "text"
      },
      "source": [
        "# Preprocessing"
      ]
    },
    {
      "cell_type": "code",
      "metadata": {
        "id": "e5U2c0unqgdP",
        "colab_type": "code",
        "colab": {}
      },
      "source": [
        "# pixel normalization\n",
        "train_X = train_features.astype('float32')/255\n",
        "test_X = test_features.astype('float32')/255\n",
        "\n",
        "# convert class labels to binary class labels\n",
        "train_Y = np_utils.to_categorical(train_labels, num_classes)\n",
        "test_Y = np_utils.to_categorical(test_labels, num_classes)\n",
        "\n",
        "\n",
        "# create generator that centers pixel values\n",
        "datagen = ImageDataGenerator(featurewise_center=True, featurewise_std_normalization=True)\n",
        "\n",
        "# calculate the mean on the training dataset\n",
        "datagen.fit(train_X)\n",
        "\n",
        "iterator = datagen.flow(test_X, test_Y, batch_size=len(test_X), shuffle=False)\n",
        "X_test, Y_test = iterator.next()"
      ],
      "execution_count": 0,
      "outputs": []
    },
    {
      "cell_type": "markdown",
      "metadata": {
        "id": "BGINGsVyjp_I",
        "colab_type": "text"
      },
      "source": [
        "# Model"
      ]
    },
    {
      "cell_type": "code",
      "metadata": {
        "id": "z3d05MXp7qXD",
        "colab_type": "code",
        "outputId": "7d2b771c-40b1-43d5-effa-3c5faae280cf",
        "colab": {
          "base_uri": "https://localhost:8080/",
          "height": 255
        }
      },
      "source": [
        "# Define the model\n",
        "model = Sequential()\n",
        "model.add(Convolution2D(32, 3, 3, border_mode='same',kernel_regularizer=regularizers.l2(0.0001), input_shape=(32, 32, 3)))\n",
        "model.add(Activation('relu'))\n",
        "model.add(BatchNormalization())\n",
        "\n",
        "model.add(Convolution2D(64, 3, 3,kernel_regularizer=regularizers.l2(0.0001),border_mode='same'))\n",
        "model.add(Activation('relu'))\n",
        "model.add(BatchNormalization())\n",
        "\n",
        "model.add(MaxPooling2D(pool_size=(2, 2)))\n",
        "model.add(Dropout(0.2))\n",
        "\n",
        "model.add(Convolution2D(32, 1, 1))\n",
        "\n",
        "\n",
        "model.add(Convolution2D(64, 3, 3,kernel_regularizer=regularizers.l2(0.0001),border_mode='same'))\n",
        "model.add(Activation('relu'))\n",
        "model.add(BatchNormalization())\n",
        "\n",
        "model.add(Convolution2D(128, 3, 3,kernel_regularizer=regularizers.l2(0.0001),border_mode='same'))\n",
        "model.add(Activation('relu'))\n",
        "model.add(BatchNormalization())\n",
        "\n",
        "model.add(MaxPooling2D(pool_size=(2, 2)))\n",
        "model.add(Dropout(0.3))\n",
        "\n",
        "model.add(Convolution2D(32, 1, 1))\n",
        "\n",
        "\n",
        "model.add(Convolution2D(128, 3, 3,kernel_regularizer=regularizers.l2(0.0001), border_mode='same'))\n",
        "model.add(Activation('relu'))\n",
        "model.add(BatchNormalization())\n",
        "\n",
        "model.add(Convolution2D(256, 3, 3,kernel_regularizer=regularizers.l2(0.0001), border_mode='same'))\n",
        "model.add(Activation('relu'))\n",
        "model.add(BatchNormalization())\n",
        "\n",
        "model.add(MaxPooling2D(pool_size=(2, 2)))\n",
        "model.add(Dropout(0.5))\n",
        "\n",
        "model.add(Convolution2D(10, 1, 1))\n",
        "\n",
        "model.add(AveragePooling2D(pool_size = (4,4)))\n",
        "model.add(Flatten())\n",
        "\n",
        "\n",
        "model.add(Activation('softmax'))\n",
        "\n",
        "# Compile the model\n",
        "model.compile(optimizer='adam', loss='categorical_crossentropy', metrics=['accuracy'])\n"
      ],
      "execution_count": 27,
      "outputs": [
        {
          "output_type": "stream",
          "text": [
            "/usr/local/lib/python3.6/dist-packages/ipykernel_launcher.py:2: UserWarning: Update your `Conv2D` call to the Keras 2 API: `Conv2D(32, (3, 3), kernel_regularizer=<keras.reg..., input_shape=(32, 32, 3..., padding=\"same\")`\n",
            "  \n",
            "/usr/local/lib/python3.6/dist-packages/ipykernel_launcher.py:6: UserWarning: Update your `Conv2D` call to the Keras 2 API: `Conv2D(64, (3, 3), kernel_regularizer=<keras.reg..., padding=\"same\")`\n",
            "  \n",
            "/usr/local/lib/python3.6/dist-packages/ipykernel_launcher.py:13: UserWarning: Update your `Conv2D` call to the Keras 2 API: `Conv2D(32, (1, 1))`\n",
            "  del sys.path[0]\n",
            "/usr/local/lib/python3.6/dist-packages/ipykernel_launcher.py:16: UserWarning: Update your `Conv2D` call to the Keras 2 API: `Conv2D(64, (3, 3), kernel_regularizer=<keras.reg..., padding=\"same\")`\n",
            "  app.launch_new_instance()\n",
            "/usr/local/lib/python3.6/dist-packages/ipykernel_launcher.py:20: UserWarning: Update your `Conv2D` call to the Keras 2 API: `Conv2D(128, (3, 3), kernel_regularizer=<keras.reg..., padding=\"same\")`\n",
            "/usr/local/lib/python3.6/dist-packages/ipykernel_launcher.py:27: UserWarning: Update your `Conv2D` call to the Keras 2 API: `Conv2D(32, (1, 1))`\n",
            "/usr/local/lib/python3.6/dist-packages/ipykernel_launcher.py:30: UserWarning: Update your `Conv2D` call to the Keras 2 API: `Conv2D(128, (3, 3), kernel_regularizer=<keras.reg..., padding=\"same\")`\n",
            "/usr/local/lib/python3.6/dist-packages/ipykernel_launcher.py:34: UserWarning: Update your `Conv2D` call to the Keras 2 API: `Conv2D(256, (3, 3), kernel_regularizer=<keras.reg..., padding=\"same\")`\n",
            "/usr/local/lib/python3.6/dist-packages/ipykernel_launcher.py:41: UserWarning: Update your `Conv2D` call to the Keras 2 API: `Conv2D(10, (1, 1))`\n"
          ],
          "name": "stderr"
        }
      ]
    },
    {
      "cell_type": "code",
      "metadata": {
        "id": "AUhWT47O7qlt",
        "colab_type": "code",
        "outputId": "19840e02-e0aa-4ade-fd87-34c33eea867e",
        "colab": {
          "base_uri": "https://localhost:8080/",
          "height": 1000
        }
      },
      "source": [
        "model.summary()"
      ],
      "execution_count": 28,
      "outputs": [
        {
          "output_type": "stream",
          "text": [
            "_________________________________________________________________\n",
            "Layer (type)                 Output Shape              Param #   \n",
            "=================================================================\n",
            "conv2d_10 (Conv2D)           (None, 32, 32, 32)        896       \n",
            "_________________________________________________________________\n",
            "activation_8 (Activation)    (None, 32, 32, 32)        0         \n",
            "_________________________________________________________________\n",
            "batch_normalization_7 (Batch (None, 32, 32, 32)        128       \n",
            "_________________________________________________________________\n",
            "conv2d_11 (Conv2D)           (None, 32, 32, 64)        18496     \n",
            "_________________________________________________________________\n",
            "activation_9 (Activation)    (None, 32, 32, 64)        0         \n",
            "_________________________________________________________________\n",
            "batch_normalization_8 (Batch (None, 32, 32, 64)        256       \n",
            "_________________________________________________________________\n",
            "max_pooling2d_4 (MaxPooling2 (None, 16, 16, 64)        0         \n",
            "_________________________________________________________________\n",
            "dropout_4 (Dropout)          (None, 16, 16, 64)        0         \n",
            "_________________________________________________________________\n",
            "conv2d_12 (Conv2D)           (None, 16, 16, 32)        2080      \n",
            "_________________________________________________________________\n",
            "conv2d_13 (Conv2D)           (None, 16, 16, 64)        18496     \n",
            "_________________________________________________________________\n",
            "activation_10 (Activation)   (None, 16, 16, 64)        0         \n",
            "_________________________________________________________________\n",
            "batch_normalization_9 (Batch (None, 16, 16, 64)        256       \n",
            "_________________________________________________________________\n",
            "conv2d_14 (Conv2D)           (None, 16, 16, 128)       73856     \n",
            "_________________________________________________________________\n",
            "activation_11 (Activation)   (None, 16, 16, 128)       0         \n",
            "_________________________________________________________________\n",
            "batch_normalization_10 (Batc (None, 16, 16, 128)       512       \n",
            "_________________________________________________________________\n",
            "max_pooling2d_5 (MaxPooling2 (None, 8, 8, 128)         0         \n",
            "_________________________________________________________________\n",
            "dropout_5 (Dropout)          (None, 8, 8, 128)         0         \n",
            "_________________________________________________________________\n",
            "conv2d_15 (Conv2D)           (None, 8, 8, 32)          4128      \n",
            "_________________________________________________________________\n",
            "conv2d_16 (Conv2D)           (None, 8, 8, 128)         36992     \n",
            "_________________________________________________________________\n",
            "activation_12 (Activation)   (None, 8, 8, 128)         0         \n",
            "_________________________________________________________________\n",
            "batch_normalization_11 (Batc (None, 8, 8, 128)         512       \n",
            "_________________________________________________________________\n",
            "conv2d_17 (Conv2D)           (None, 8, 8, 256)         295168    \n",
            "_________________________________________________________________\n",
            "activation_13 (Activation)   (None, 8, 8, 256)         0         \n",
            "_________________________________________________________________\n",
            "batch_normalization_12 (Batc (None, 8, 8, 256)         1024      \n",
            "_________________________________________________________________\n",
            "max_pooling2d_6 (MaxPooling2 (None, 4, 4, 256)         0         \n",
            "_________________________________________________________________\n",
            "dropout_6 (Dropout)          (None, 4, 4, 256)         0         \n",
            "_________________________________________________________________\n",
            "conv2d_18 (Conv2D)           (None, 4, 4, 10)          2570      \n",
            "_________________________________________________________________\n",
            "average_pooling2d_2 (Average (None, 1, 1, 10)          0         \n",
            "_________________________________________________________________\n",
            "flatten_2 (Flatten)          (None, 10)                0         \n",
            "_________________________________________________________________\n",
            "activation_14 (Activation)   (None, 10)                0         \n",
            "=================================================================\n",
            "Total params: 455,370\n",
            "Trainable params: 454,026\n",
            "Non-trainable params: 1,344\n",
            "_________________________________________________________________\n"
          ],
          "name": "stdout"
        }
      ]
    },
    {
      "cell_type": "markdown",
      "metadata": {
        "id": "cGAT_BcY-da2",
        "colab_type": "text"
      },
      "source": [
        "### Total params: 455,370"
      ]
    },
    {
      "cell_type": "markdown",
      "metadata": {
        "id": "I3k24dnBkXOm",
        "colab_type": "text"
      },
      "source": [
        "# Train the model"
      ]
    },
    {
      "cell_type": "code",
      "metadata": {
        "id": "4gPfvAi-8nwk",
        "colab_type": "code",
        "outputId": "ab04d742-6c7d-43a1-b247-fa51c56ac334",
        "colab": {
          "base_uri": "https://localhost:8080/",
          "height": 1000
        }
      },
      "source": [
        "# train the model\n",
        "start = time.time()\n",
        "# Train the model\n",
        "model_info = model.fit_generator(datagen.flow(train_X, train_Y, batch_size = 128),\n",
        "                                 samples_per_epoch = train_X.shape[0], nb_epoch = 100, \n",
        "                                 validation_data = (X_test, Y_test), verbose=1)\n",
        "end = time.time()\n",
        "print (\"Model took %0.2f seconds to train\"%(end - start))\n",
        "# plot model history\n",
        "plot_model_history(model_info)\n",
        "# compute test accuracy\n",
        "print (\"Accuracy on test data is: %0.2f\"%accuracy(X_test, Y_test, model))"
      ],
      "execution_count": 29,
      "outputs": [
        {
          "output_type": "stream",
          "text": [
            "/usr/local/lib/python3.6/dist-packages/ipykernel_launcher.py:5: UserWarning: The semantics of the Keras 2 argument `steps_per_epoch` is not the same as the Keras 1 argument `samples_per_epoch`. `steps_per_epoch` is the number of batches to draw from the generator at each epoch. Basically steps_per_epoch = samples_per_epoch/batch_size. Similarly `nb_val_samples`->`validation_steps` and `val_samples`->`steps` arguments have changed. Update your method calls accordingly.\n",
            "  \"\"\"\n",
            "/usr/local/lib/python3.6/dist-packages/ipykernel_launcher.py:5: UserWarning: Update your `fit_generator` call to the Keras 2 API: `fit_generator(<keras_pre..., validation_data=(array([[[..., verbose=1, steps_per_epoch=390, epochs=100)`\n",
            "  \"\"\"\n"
          ],
          "name": "stderr"
        },
        {
          "output_type": "stream",
          "text": [
            "Epoch 1/100\n",
            "390/390 [==============================] - 14s 37ms/step - loss: 1.3888 - acc: 0.5200 - val_loss: 1.2348 - val_acc: 0.6098\n",
            "Epoch 2/100\n",
            "390/390 [==============================] - 12s 32ms/step - loss: 0.9851 - acc: 0.6693 - val_loss: 0.9572 - val_acc: 0.6880\n",
            "Epoch 3/100\n",
            "390/390 [==============================] - 13s 32ms/step - loss: 0.8217 - acc: 0.7328 - val_loss: 0.8523 - val_acc: 0.7277\n",
            "Epoch 4/100\n",
            "390/390 [==============================] - 13s 33ms/step - loss: 0.7201 - acc: 0.7703 - val_loss: 0.7129 - val_acc: 0.7730\n",
            "Epoch 5/100\n",
            "390/390 [==============================] - 13s 33ms/step - loss: 0.6550 - acc: 0.7954 - val_loss: 0.6914 - val_acc: 0.7841\n",
            "Epoch 6/100\n",
            "390/390 [==============================] - 13s 33ms/step - loss: 0.6069 - acc: 0.8137 - val_loss: 0.6861 - val_acc: 0.7903\n",
            "Epoch 7/100\n",
            "390/390 [==============================] - 13s 32ms/step - loss: 0.5710 - acc: 0.8292 - val_loss: 0.6391 - val_acc: 0.8110\n",
            "Epoch 8/100\n",
            "390/390 [==============================] - 13s 32ms/step - loss: 0.5443 - acc: 0.8411 - val_loss: 0.6906 - val_acc: 0.7979\n",
            "Epoch 9/100\n",
            "390/390 [==============================] - 13s 32ms/step - loss: 0.5226 - acc: 0.8510 - val_loss: 0.6565 - val_acc: 0.8140\n",
            "Epoch 10/100\n",
            "390/390 [==============================] - 13s 32ms/step - loss: 0.5017 - acc: 0.8609 - val_loss: 0.6183 - val_acc: 0.8267\n",
            "Epoch 11/100\n",
            "390/390 [==============================] - 13s 32ms/step - loss: 0.4872 - acc: 0.8668 - val_loss: 0.7550 - val_acc: 0.7969\n",
            "Epoch 12/100\n",
            "390/390 [==============================] - 13s 32ms/step - loss: 0.4746 - acc: 0.8729 - val_loss: 0.6650 - val_acc: 0.8229\n",
            "Epoch 13/100\n",
            "390/390 [==============================] - 13s 32ms/step - loss: 0.4644 - acc: 0.8787 - val_loss: 0.6509 - val_acc: 0.8305\n",
            "Epoch 14/100\n",
            "390/390 [==============================] - 13s 32ms/step - loss: 0.4487 - acc: 0.8860 - val_loss: 0.6098 - val_acc: 0.8420\n",
            "Epoch 15/100\n",
            "390/390 [==============================] - 13s 32ms/step - loss: 0.4471 - acc: 0.8867 - val_loss: 0.6152 - val_acc: 0.8431\n",
            "Epoch 16/100\n",
            "390/390 [==============================] - 13s 32ms/step - loss: 0.4331 - acc: 0.8957 - val_loss: 0.7448 - val_acc: 0.8196\n",
            "Epoch 17/100\n",
            "390/390 [==============================] - 13s 32ms/step - loss: 0.4325 - acc: 0.8969 - val_loss: 0.6605 - val_acc: 0.8349\n",
            "Epoch 18/100\n",
            "390/390 [==============================] - 13s 32ms/step - loss: 0.4256 - acc: 0.9011 - val_loss: 0.6485 - val_acc: 0.8393\n",
            "Epoch 19/100\n",
            "390/390 [==============================] - 13s 32ms/step - loss: 0.4221 - acc: 0.9027 - val_loss: 0.6432 - val_acc: 0.8437\n",
            "Epoch 20/100\n",
            "390/390 [==============================] - 12s 32ms/step - loss: 0.4130 - acc: 0.9076 - val_loss: 0.6056 - val_acc: 0.8530\n",
            "Epoch 21/100\n",
            "390/390 [==============================] - 12s 32ms/step - loss: 0.4088 - acc: 0.9091 - val_loss: 0.6500 - val_acc: 0.8470\n",
            "Epoch 22/100\n",
            "390/390 [==============================] - 13s 32ms/step - loss: 0.4089 - acc: 0.9126 - val_loss: 0.6424 - val_acc: 0.8504\n",
            "Epoch 23/100\n",
            "390/390 [==============================] - 13s 32ms/step - loss: 0.4056 - acc: 0.9122 - val_loss: 0.6506 - val_acc: 0.8513\n",
            "Epoch 24/100\n",
            "390/390 [==============================] - 13s 32ms/step - loss: 0.4073 - acc: 0.9135 - val_loss: 0.6681 - val_acc: 0.8462\n",
            "Epoch 25/100\n",
            "390/390 [==============================] - 13s 32ms/step - loss: 0.3980 - acc: 0.9176 - val_loss: 0.6504 - val_acc: 0.8483\n",
            "Epoch 26/100\n",
            "390/390 [==============================] - 13s 32ms/step - loss: 0.3970 - acc: 0.9195 - val_loss: 0.6466 - val_acc: 0.8578\n",
            "Epoch 27/100\n",
            "390/390 [==============================] - 13s 32ms/step - loss: 0.3991 - acc: 0.9206 - val_loss: 0.6497 - val_acc: 0.8582\n",
            "Epoch 28/100\n",
            "390/390 [==============================] - 13s 32ms/step - loss: 0.3940 - acc: 0.9214 - val_loss: 0.6415 - val_acc: 0.8561\n",
            "Epoch 29/100\n",
            "390/390 [==============================] - 13s 32ms/step - loss: 0.3891 - acc: 0.9239 - val_loss: 0.7330 - val_acc: 0.8392\n",
            "Epoch 30/100\n",
            "390/390 [==============================] - 13s 32ms/step - loss: 0.3879 - acc: 0.9262 - val_loss: 0.6852 - val_acc: 0.8488\n",
            "Epoch 31/100\n",
            "390/390 [==============================] - 13s 32ms/step - loss: 0.3936 - acc: 0.9235 - val_loss: 0.6618 - val_acc: 0.8534\n",
            "Epoch 32/100\n",
            "390/390 [==============================] - 13s 32ms/step - loss: 0.3880 - acc: 0.9272 - val_loss: 0.6556 - val_acc: 0.8601\n",
            "Epoch 33/100\n",
            "390/390 [==============================] - 13s 32ms/step - loss: 0.3828 - acc: 0.9287 - val_loss: 0.7313 - val_acc: 0.8452\n",
            "Epoch 34/100\n",
            "390/390 [==============================] - 13s 32ms/step - loss: 0.3846 - acc: 0.9284 - val_loss: 0.6595 - val_acc: 0.8629\n",
            "Epoch 35/100\n",
            "390/390 [==============================] - 13s 32ms/step - loss: 0.3798 - acc: 0.9318 - val_loss: 0.6537 - val_acc: 0.8595\n",
            "Epoch 36/100\n",
            "390/390 [==============================] - 13s 32ms/step - loss: 0.3804 - acc: 0.9317 - val_loss: 0.6755 - val_acc: 0.8546\n",
            "Epoch 37/100\n",
            "390/390 [==============================] - 13s 32ms/step - loss: 0.3805 - acc: 0.9324 - val_loss: 0.6781 - val_acc: 0.8591\n",
            "Epoch 38/100\n",
            "390/390 [==============================] - 13s 32ms/step - loss: 0.3767 - acc: 0.9328 - val_loss: 0.6986 - val_acc: 0.8532\n",
            "Epoch 39/100\n",
            "390/390 [==============================] - 13s 32ms/step - loss: 0.3755 - acc: 0.9343 - val_loss: 0.7337 - val_acc: 0.8411\n",
            "Epoch 40/100\n",
            "390/390 [==============================] - 13s 32ms/step - loss: 0.3810 - acc: 0.9332 - val_loss: 0.6962 - val_acc: 0.8550\n",
            "Epoch 41/100\n",
            "390/390 [==============================] - 12s 32ms/step - loss: 0.3751 - acc: 0.9360 - val_loss: 0.7190 - val_acc: 0.8526\n",
            "Epoch 42/100\n",
            "390/390 [==============================] - 13s 32ms/step - loss: 0.3741 - acc: 0.9360 - val_loss: 0.6878 - val_acc: 0.8633\n",
            "Epoch 43/100\n",
            "390/390 [==============================] - 13s 32ms/step - loss: 0.3774 - acc: 0.9348 - val_loss: 0.6827 - val_acc: 0.8630\n",
            "Epoch 44/100\n",
            "390/390 [==============================] - 13s 32ms/step - loss: 0.3744 - acc: 0.9356 - val_loss: 0.6729 - val_acc: 0.8637\n",
            "Epoch 45/100\n",
            "390/390 [==============================] - 13s 32ms/step - loss: 0.3706 - acc: 0.9388 - val_loss: 0.6750 - val_acc: 0.8639\n",
            "Epoch 46/100\n",
            "390/390 [==============================] - 12s 32ms/step - loss: 0.3712 - acc: 0.9382 - val_loss: 0.6530 - val_acc: 0.8653\n",
            "Epoch 47/100\n",
            "390/390 [==============================] - 12s 32ms/step - loss: 0.3603 - acc: 0.9421 - val_loss: 0.7091 - val_acc: 0.8586\n",
            "Epoch 48/100\n",
            "390/390 [==============================] - 12s 32ms/step - loss: 0.3652 - acc: 0.9401 - val_loss: 0.6948 - val_acc: 0.8560\n",
            "Epoch 49/100\n",
            "390/390 [==============================] - 13s 32ms/step - loss: 0.3757 - acc: 0.9367 - val_loss: 0.7261 - val_acc: 0.8515\n",
            "Epoch 50/100\n",
            "390/390 [==============================] - 12s 32ms/step - loss: 0.3735 - acc: 0.9379 - val_loss: 0.6844 - val_acc: 0.8623\n",
            "Epoch 51/100\n",
            "390/390 [==============================] - 13s 32ms/step - loss: 0.3610 - acc: 0.9429 - val_loss: 0.7078 - val_acc: 0.8597\n",
            "Epoch 52/100\n",
            "390/390 [==============================] - 12s 32ms/step - loss: 0.3672 - acc: 0.9405 - val_loss: 0.6853 - val_acc: 0.8674\n",
            "Epoch 53/100\n",
            "390/390 [==============================] - 12s 32ms/step - loss: 0.3710 - acc: 0.9405 - val_loss: 0.6848 - val_acc: 0.8660\n",
            "Epoch 54/100\n",
            "390/390 [==============================] - 12s 32ms/step - loss: 0.3622 - acc: 0.9436 - val_loss: 0.7075 - val_acc: 0.8636\n",
            "Epoch 55/100\n",
            "390/390 [==============================] - 13s 32ms/step - loss: 0.3672 - acc: 0.9419 - val_loss: 0.6857 - val_acc: 0.8612\n",
            "Epoch 56/100\n",
            "390/390 [==============================] - 13s 32ms/step - loss: 0.3607 - acc: 0.9444 - val_loss: 0.7357 - val_acc: 0.8571\n",
            "Epoch 57/100\n",
            "390/390 [==============================] - 12s 32ms/step - loss: 0.3653 - acc: 0.9416 - val_loss: 0.7056 - val_acc: 0.8607\n",
            "Epoch 58/100\n",
            "390/390 [==============================] - 12s 32ms/step - loss: 0.3635 - acc: 0.9437 - val_loss: 0.7033 - val_acc: 0.8561\n",
            "Epoch 59/100\n",
            "390/390 [==============================] - 13s 32ms/step - loss: 0.3613 - acc: 0.9439 - val_loss: 0.6514 - val_acc: 0.8743\n",
            "Epoch 60/100\n",
            "390/390 [==============================] - 12s 32ms/step - loss: 0.3572 - acc: 0.9459 - val_loss: 0.6500 - val_acc: 0.8732\n",
            "Epoch 61/100\n",
            "390/390 [==============================] - 13s 32ms/step - loss: 0.3589 - acc: 0.9452 - val_loss: 0.7441 - val_acc: 0.8506\n",
            "Epoch 62/100\n",
            "390/390 [==============================] - 12s 32ms/step - loss: 0.3662 - acc: 0.9420 - val_loss: 0.7297 - val_acc: 0.8498\n",
            "Epoch 63/100\n",
            "390/390 [==============================] - 13s 32ms/step - loss: 0.3665 - acc: 0.9433 - val_loss: 0.7451 - val_acc: 0.8560\n",
            "Epoch 64/100\n",
            "390/390 [==============================] - 12s 32ms/step - loss: 0.3581 - acc: 0.9454 - val_loss: 0.7009 - val_acc: 0.8638\n",
            "Epoch 65/100\n",
            "390/390 [==============================] - 12s 32ms/step - loss: 0.3568 - acc: 0.9450 - val_loss: 0.6969 - val_acc: 0.8644\n",
            "Epoch 66/100\n",
            "390/390 [==============================] - 12s 32ms/step - loss: 0.3602 - acc: 0.9450 - val_loss: 0.6660 - val_acc: 0.8698\n",
            "Epoch 67/100\n",
            "390/390 [==============================] - 12s 32ms/step - loss: 0.3574 - acc: 0.9454 - val_loss: 0.7315 - val_acc: 0.8613\n",
            "Epoch 68/100\n",
            "390/390 [==============================] - 12s 32ms/step - loss: 0.3584 - acc: 0.9446 - val_loss: 0.7006 - val_acc: 0.8708\n",
            "Epoch 69/100\n",
            "390/390 [==============================] - 13s 32ms/step - loss: 0.3598 - acc: 0.9442 - val_loss: 0.7057 - val_acc: 0.8624\n",
            "Epoch 70/100\n",
            "390/390 [==============================] - 12s 32ms/step - loss: 0.3580 - acc: 0.9457 - val_loss: 0.6821 - val_acc: 0.8648\n",
            "Epoch 71/100\n",
            "390/390 [==============================] - 12s 32ms/step - loss: 0.3496 - acc: 0.9481 - val_loss: 0.7260 - val_acc: 0.8625\n",
            "Epoch 72/100\n",
            "390/390 [==============================] - 12s 32ms/step - loss: 0.3594 - acc: 0.9466 - val_loss: 0.7572 - val_acc: 0.8567\n",
            "Epoch 73/100\n",
            "390/390 [==============================] - 12s 32ms/step - loss: 0.3582 - acc: 0.9456 - val_loss: 0.7887 - val_acc: 0.8447\n",
            "Epoch 74/100\n",
            "390/390 [==============================] - 13s 32ms/step - loss: 0.3534 - acc: 0.9479 - val_loss: 0.6667 - val_acc: 0.8683\n",
            "Epoch 75/100\n",
            "390/390 [==============================] - 12s 32ms/step - loss: 0.3538 - acc: 0.9478 - val_loss: 0.7160 - val_acc: 0.8644\n",
            "Epoch 76/100\n",
            "390/390 [==============================] - 12s 32ms/step - loss: 0.3529 - acc: 0.9486 - val_loss: 0.6957 - val_acc: 0.8675\n",
            "Epoch 77/100\n",
            "390/390 [==============================] - 13s 32ms/step - loss: 0.3571 - acc: 0.9475 - val_loss: 0.7090 - val_acc: 0.8621\n",
            "Epoch 78/100\n",
            "390/390 [==============================] - 12s 32ms/step - loss: 0.3512 - acc: 0.9487 - val_loss: 0.7108 - val_acc: 0.8647\n",
            "Epoch 79/100\n",
            "390/390 [==============================] - 13s 32ms/step - loss: 0.3496 - acc: 0.9488 - val_loss: 0.7905 - val_acc: 0.8481\n",
            "Epoch 80/100\n",
            "390/390 [==============================] - 12s 32ms/step - loss: 0.3510 - acc: 0.9487 - val_loss: 0.6861 - val_acc: 0.8670\n",
            "Epoch 81/100\n",
            "390/390 [==============================] - 13s 32ms/step - loss: 0.3491 - acc: 0.9494 - val_loss: 0.6837 - val_acc: 0.8703\n",
            "Epoch 82/100\n",
            "390/390 [==============================] - 13s 32ms/step - loss: 0.3474 - acc: 0.9494 - val_loss: 0.6925 - val_acc: 0.8711\n",
            "Epoch 83/100\n",
            "390/390 [==============================] - 12s 32ms/step - loss: 0.3423 - acc: 0.9523 - val_loss: 0.7475 - val_acc: 0.8540\n",
            "Epoch 84/100\n",
            "390/390 [==============================] - 12s 32ms/step - loss: 0.3431 - acc: 0.9514 - val_loss: 0.6777 - val_acc: 0.8736\n",
            "Epoch 85/100\n",
            "390/390 [==============================] - 12s 32ms/step - loss: 0.3517 - acc: 0.9498 - val_loss: 0.7223 - val_acc: 0.8598\n",
            "Epoch 86/100\n",
            "390/390 [==============================] - 13s 32ms/step - loss: 0.3527 - acc: 0.9489 - val_loss: 0.6878 - val_acc: 0.8654\n",
            "Epoch 87/100\n",
            "390/390 [==============================] - 13s 32ms/step - loss: 0.3444 - acc: 0.9513 - val_loss: 0.6970 - val_acc: 0.8691\n",
            "Epoch 88/100\n",
            "390/390 [==============================] - 12s 32ms/step - loss: 0.3505 - acc: 0.9499 - val_loss: 0.6948 - val_acc: 0.8728\n",
            "Epoch 89/100\n",
            "390/390 [==============================] - 12s 32ms/step - loss: 0.3483 - acc: 0.9506 - val_loss: 0.7309 - val_acc: 0.8598\n",
            "Epoch 90/100\n",
            "390/390 [==============================] - 13s 32ms/step - loss: 0.3475 - acc: 0.9496 - val_loss: 0.6912 - val_acc: 0.8686\n",
            "Epoch 91/100\n",
            "390/390 [==============================] - 12s 32ms/step - loss: 0.3486 - acc: 0.9492 - val_loss: 0.6933 - val_acc: 0.8704\n",
            "Epoch 92/100\n",
            "390/390 [==============================] - 13s 32ms/step - loss: 0.3465 - acc: 0.9503 - val_loss: 0.6971 - val_acc: 0.8623\n",
            "Epoch 93/100\n",
            "390/390 [==============================] - 13s 32ms/step - loss: 0.3428 - acc: 0.9509 - val_loss: 0.7188 - val_acc: 0.8597\n",
            "Epoch 94/100\n",
            "390/390 [==============================] - 12s 32ms/step - loss: 0.3393 - acc: 0.9529 - val_loss: 0.7192 - val_acc: 0.8660\n",
            "Epoch 95/100\n",
            "390/390 [==============================] - 12s 32ms/step - loss: 0.3462 - acc: 0.9506 - val_loss: 0.6857 - val_acc: 0.8637\n",
            "Epoch 96/100\n",
            "390/390 [==============================] - 13s 32ms/step - loss: 0.3411 - acc: 0.9515 - val_loss: 0.7154 - val_acc: 0.8662\n",
            "Epoch 97/100\n",
            "390/390 [==============================] - 12s 32ms/step - loss: 0.3449 - acc: 0.9501 - val_loss: 0.7247 - val_acc: 0.8656\n",
            "Epoch 98/100\n",
            "390/390 [==============================] - 13s 32ms/step - loss: 0.3457 - acc: 0.9505 - val_loss: 0.6809 - val_acc: 0.8755\n",
            "Epoch 99/100\n",
            "390/390 [==============================] - 12s 32ms/step - loss: 0.3438 - acc: 0.9509 - val_loss: 0.6768 - val_acc: 0.8741\n",
            "Epoch 100/100\n",
            "390/390 [==============================] - 12s 32ms/step - loss: 0.3409 - acc: 0.9515 - val_loss: 0.7190 - val_acc: 0.8633\n",
            "Model took 1256.52 seconds to train\n"
          ],
          "name": "stdout"
        },
        {
          "output_type": "display_data",
          "data": {
            "image/png": "[encoded data removed]",
            "text/plain": [
              "<Figure size 1080x360 with 2 Axes>"
            ]
          },
          "metadata": {
            "tags": []
          }
        },
        {
          "output_type": "stream",
          "text": [
            "Accuracy on test data is: 86.33\n"
          ],
          "name": "stdout"
        }
      ]
    }
  ]
}