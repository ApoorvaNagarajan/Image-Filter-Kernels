{
  "nbformat": 4,
  "nbformat_minor": 0,
  "metadata": {
    "colab": {
      "name": "assignment14.ipynb",
      "provenance": [],
      "collapsed_sections": [],
      "include_colab_link": true
    },
    "kernelspec": {
      "name": "python3",
      "display_name": "Python 3"
    },
    "accelerator": "GPU"
  },
  "cells": [
    {
      "cell_type": "markdown",
      "metadata": {
        "id": "view-in-github",
        "colab_type": "text"
      },
      "source": [
        "<a href=\"https://colab.research.google.com/github/ApoorvaNagarajan/Image-Filter-Kernels/blob/master/assignment14/assignment14.ipynb\" target=\"_parent\"><img src=\"https://colab.research.google.com/assets/colab-badge.svg\" alt=\"Open In Colab\"/></a>"
      ]
    },
    {
      "cell_type": "code",
      "metadata": {
        "id": "kOsYqWHvQBrZ",
        "colab_type": "code",
        "outputId": "4f9a47b9-88d5-4c7a-e54b-03f6ae2b67c7",
        "colab": {
          "base_uri": "https://localhost:8080/",
          "height": 197
        }
      },
      "source": [
        "import numpy as np\n",
        "import time, math\n",
        "from tqdm import tqdm_notebook as tqdm\n",
        "\n",
        "import tensorflow as tf\n",
        "import tensorflow.contrib.eager as tfe\n",
        "import matplotlib.pyplot as plt "
      ],
      "execution_count": 1,
      "outputs": [
        {
          "output_type": "display_data",
          "data": {
            "text/html": [
              "<p style=\"color: red;\">\n",
              "The default version of TensorFlow in Colab will soon switch to TensorFlow 2.x.<br>\n",
              "We recommend you <a href=\"https://www.tensorflow.org/guide/migrate\" target=\"_blank\">upgrade</a> now \n",
              "or ensure your notebook will continue to use TensorFlow 1.x via the <code>%tensorflow_version 1.x</code> magic:\n",
              "<a href=\"https://colab.research.google.com/notebooks/tensorflow_version.ipynb\" target=\"_blank\">more info</a>.</p>\n"
            ],
            "text/plain": [
              "<IPython.core.display.HTML object>"
            ]
          },
          "metadata": {
            "tags": []
          }
        },
        {
          "output_type": "stream",
          "text": [
            "WARNING:tensorflow:\n",
            "The TensorFlow contrib module will not be included in TensorFlow 2.0.\n",
            "For more information, please see:\n",
            "  * https://github.com/tensorflow/community/blob/master/rfcs/20180907-contrib-sunset.md\n",
            "  * https://github.com/tensorflow/addons\n",
            "  * https://github.com/tensorflow/io (for I/O related ops)\n",
            "If you depend on functionality not listed there, please file an issue.\n",
            "\n"
          ],
          "name": "stdout"
        }
      ]
    },
    {
      "cell_type": "code",
      "metadata": {
        "id": "KcVY1UhnQPDO",
        "colab_type": "code",
        "colab": {}
      },
      "source": [
        "tf.enable_eager_execution()\n"
      ],
      "execution_count": 0,
      "outputs": []
    },
    {
      "cell_type": "code",
      "metadata": {
        "id": "vB8AQeSyKtr_",
        "colab_type": "code",
        "colab": {}
      },
      "source": [
        "from google.colab import drive\n",
        "import time, math"
      ],
      "execution_count": 0,
      "outputs": []
    },
    {
      "cell_type": "code",
      "metadata": {
        "id": "41lN-cPWKo9o",
        "colab_type": "code",
        "outputId": "cd6fd270-1276-448e-f95d-cecc31556ff8",
        "colab": {
          "base_uri": "https://localhost:8080/",
          "height": 151
        }
      },
      "source": [
        "!rm -rf DNN_utils\n",
        "!git clone https://github.com/ApoorvaNagarajan/DNN_utils.git\n",
        "\n",
        "from DNN_utils import tfrecord_utils\n",
        "from DNN_utils import data_transforms as dt"
      ],
      "execution_count": 4,
      "outputs": [
        {
          "output_type": "stream",
          "text": [
            "Cloning into 'DNN_utils'...\n",
            "remote: Enumerating objects: 78, done.\u001b[K\n",
            "remote: Counting objects:   1% (1/78)\u001b[K\rremote: Counting objects:   2% (2/78)\u001b[K\rremote: Counting objects:   3% (3/78)\u001b[K\rremote: Counting objects:   5% (4/78)\u001b[K\rremote: Counting objects:   6% (5/78)\u001b[K\rremote: Counting objects:   7% (6/78)\u001b[K\rremote: Counting objects:   8% (7/78)\u001b[K\rremote: Counting objects:  10% (8/78)\u001b[K\rremote: Counting objects:  11% (9/78)\u001b[K\rremote: Counting objects:  12% (10/78)\u001b[K\rremote: Counting objects:  14% (11/78)\u001b[K\rremote: Counting objects:  15% (12/78)\u001b[K\rremote: Counting objects:  16% (13/78)\u001b[K\rremote: Counting objects:  17% (14/78)\u001b[K\rremote: Counting objects:  19% (15/78)\u001b[K\rremote: Counting objects:  20% (16/78)\u001b[K\rremote: Counting objects:  21% (17/78)\u001b[K\rremote: Counting objects:  23% (18/78)\u001b[K\rremote: Counting objects:  24% (19/78)\u001b[K\rremote: Counting objects:  25% (20/78)\u001b[K\rremote: Counting objects:  26% (21/78)\u001b[K\rremote: Counting objects:  28% (22/78)\u001b[K\rremote: Counting objects:  29% (23/78)\u001b[K\rremote: Counting objects:  30% (24/78)\u001b[K\rremote: Counting objects:  32% (25/78)\u001b[K\rremote: Counting objects:  33% (26/78)\u001b[K\rremote: Counting objects:  34% (27/78)\u001b[K\rremote: Counting objects:  35% (28/78)\u001b[K\rremote: Counting objects:  37% (29/78)\u001b[K\rremote: Counting objects:  38% (30/78)\u001b[K\rremote: Counting objects:  39% (31/78)\u001b[K\rremote: Counting objects:  41% (32/78)\u001b[K\rremote: Counting objects:  42% (33/78)\u001b[K\rremote: Counting objects:  43% (34/78)\u001b[K\rremote: Counting objects:  44% (35/78)\u001b[K\rremote: Counting objects:  46% (36/78)\u001b[K\rremote: Counting objects:  47% (37/78)\u001b[K\rremote: Counting objects:  48% (38/78)\u001b[K\rremote: Counting objects:  50% (39/78)\u001b[K\rremote: Counting objects:  51% (40/78)\u001b[K\rremote: Counting objects:  52% (41/78)\u001b[K\rremote: Counting objects:  53% (42/78)\u001b[K\rremote: Counting objects:  55% (43/78)\u001b[K\rremote: Counting objects:  56% (44/78)\u001b[K\rremote: Counting objects:  57% (45/78)\u001b[K\rremote: Counting objects:  58% (46/78)\u001b[K\rremote: Counting objects:  60% (47/78)\u001b[K\rremote: Counting objects:  61% (48/78)\u001b[K\rremote: Counting objects:  62% (49/78)\u001b[K\rremote: Counting objects:  64% (50/78)\u001b[K\rremote: Counting objects:  65% (51/78)\u001b[K\rremote: Counting objects:  66% (52/78)\u001b[K\rremote: Counting objects:  67% (53/78)\u001b[K\rremote: Counting objects:  69% (54/78)\u001b[K\rremote: Counting objects:  70% (55/78)\u001b[K\rremote: Counting objects:  71% (56/78)\u001b[K\rremote: Counting objects:  73% (57/78)\u001b[K\rremote: Counting objects:  74% (58/78)\u001b[K\rremote: Counting objects:  75% (59/78)\u001b[K\rremote: Counting objects:  76% (60/78)\u001b[K\rremote: Counting objects:  78% (61/78)\u001b[K\rremote: Counting objects:  79% (62/78)\u001b[K\rremote: Counting objects:  80% (63/78)\u001b[K\rremote: Counting objects:  82% (64/78)\u001b[K\rremote: Counting objects:  83% (65/78)\u001b[K\rremote: Counting objects:  84% (66/78)\u001b[K\rremote: Counting objects:  85% (67/78)\u001b[K\rremote: Counting objects:  87% (68/78)\u001b[K\rremote: Counting objects:  88% (69/78)\u001b[K\rremote: Counting objects:  89% (70/78)\u001b[K\rremote: Counting objects:  91% (71/78)\u001b[K\rremote: Counting objects:  92% (72/78)\u001b[K\rremote: Counting objects:  93% (73/78)\u001b[K\rremote: Counting objects:  94% (74/78)\u001b[K\rremote: Counting objects:  96% (75/78)\u001b[K\rremote: Counting objects:  97% (76/78)\u001b[K\rremote: Counting objects:  98% (77/78)\u001b[K\rremote: Counting objects: 100% (78/78)\u001b[K\rremote: Counting objects: 100% (78/78), done.\u001b[K\n",
            "remote: Compressing objects:   1% (1/76)\u001b[K\rremote: Compressing objects:   2% (2/76)\u001b[K\rremote: Compressing objects:   3% (3/76)\u001b[K\rremote: Compressing objects:   5% (4/76)\u001b[K\rremote: Compressing objects:   6% (5/76)\u001b[K\rremote: Compressing objects:   7% (6/76)\u001b[K\rremote: Compressing objects:   9% (7/76)\u001b[K\rremote: Compressing objects:  10% (8/76)\u001b[K\rremote: Compressing objects:  11% (9/76)\u001b[K\rremote: Compressing objects:  13% (10/76)\u001b[K\rremote: Compressing objects:  14% (11/76)\u001b[K\rremote: Compressing objects:  15% (12/76)\u001b[K\rremote: Compressing objects:  17% (13/76)\u001b[K\rremote: Compressing objects:  18% (14/76)\u001b[K\rremote: Compressing objects:  19% (15/76)\u001b[K\rremote: Compressing objects:  21% (16/76)\u001b[K\rremote: Compressing objects:  22% (17/76)\u001b[K\rremote: Compressing objects:  23% (18/76)\u001b[K\rremote: Compressing objects:  25% (19/76)\u001b[K\rremote: Compressing objects:  26% (20/76)\u001b[K\rremote: Compressing objects:  27% (21/76)\u001b[K\rremote: Compressing objects:  28% (22/76)\u001b[K\rremote: Compressing objects:  30% (23/76)\u001b[K\rremote: Compressing objects:  31% (24/76)\u001b[K\rremote: Compressing objects:  32% (25/76)\u001b[K\rremote: Compressing objects:  34% (26/76)\u001b[K\rremote: Compressing objects:  35% (27/76)\u001b[K\rremote: Compressing objects:  36% (28/76)\u001b[K\rremote: Compressing objects:  38% (29/76)\u001b[K\rremote: Compressing objects:  39% (30/76)\u001b[K\rremote: Compressing objects:  40% (31/76)\u001b[K\rremote: Compressing objects:  42% (32/76)\u001b[K\rremote: Compressing objects:  43% (33/76)\u001b[K\rremote: Compressing objects:  44% (34/76)\u001b[K\rremote: Compressing objects:  46% (35/76)\u001b[K\rremote: Compressing objects:  47% (36/76)\u001b[K\rremote: Compressing objects:  48% (37/76)\u001b[K\rremote: Compressing objects:  50% (38/76)\u001b[K\rremote: Compressing objects:  51% (39/76)\u001b[K\rremote: Compressing objects:  52% (40/76)\u001b[K\rremote: Compressing objects:  53% (41/76)\u001b[K\rremote: Compressing objects:  55% (42/76)\u001b[K\rremote: Compressing objects:  56% (43/76)\u001b[K\rremote: Compressing objects:  57% (44/76)\u001b[K\rremote: Compressing objects:  59% (45/76)\u001b[K\rremote: Compressing objects:  60% (46/76)\u001b[K\rremote: Compressing objects:  61% (47/76)\u001b[K\rremote: Compressing objects:  63% (48/76)\u001b[K\rremote: Compressing objects:  64% (49/76)\u001b[K\rremote: Compressing objects:  65% (50/76)\u001b[K\rremote: Compressing objects:  67% (51/76)\u001b[K\rremote: Compressing objects:  68% (52/76)\u001b[K\rremote: Compressing objects:  69% (53/76)\u001b[K\rremote: Compressing objects:  71% (54/76)\u001b[K\rremote: Compressing objects:  72% (55/76)\u001b[K\rremote: Compressing objects:  73% (56/76)\u001b[K\rremote: Compressing objects:  75% (57/76)\u001b[K\rremote: Compressing objects:  76% (58/76)\u001b[K\rremote: Compressing objects:  77% (59/76)\u001b[K\rremote: Compressing objects:  78% (60/76)\u001b[K\rremote: Compressing objects:  80% (61/76)\u001b[K\rremote: Compressing objects:  81% (62/76)\u001b[K\rremote: Compressing objects:  82% (63/76)\u001b[K\rremote: Compressing objects:  84% (64/76)\u001b[K\rremote: Compressing objects:  85% (65/76)\u001b[K\rremote: Compressing objects:  86% (66/76)\u001b[K\rremote: Compressing objects:  88% (67/76)\u001b[K\rremote: Compressing objects:  89% (68/76)\u001b[K\rremote: Compressing objects:  90% (69/76)\u001b[K\rremote: Compressing objects:  92% (70/76)\u001b[K\rremote: Compressing objects:  93% (71/76)\u001b[K\rremote: Compressing objects:  94% (72/76)\u001b[K\rremote: Compressing objects:  96% (73/76)\u001b[K\rremote: Compressing objects:  97% (74/76)\u001b[K\rremote: Compressing objects:  98% (75/76)\u001b[K\rremote: Compressing objects: 100% (76/76)\u001b[K\rremote: Compressing objects: 100% (76/76), done.\u001b[K\n",
            "Receiving objects:   0% (1/144)   \rReceiving objects:   1% (2/144)   \rReceiving objects:   2% (3/144)   \rReceiving objects:   3% (5/144)   \rReceiving objects:   4% (6/144)   \rReceiving objects:   5% (8/144)   \rReceiving objects:   6% (9/144)   \rReceiving objects:   7% (11/144)   \rReceiving objects:   8% (12/144)   \rReceiving objects:   9% (13/144)   \rReceiving objects:  10% (15/144)   \rReceiving objects:  11% (16/144)   \rReceiving objects:  12% (18/144)   \rReceiving objects:  13% (19/144)   \rReceiving objects:  14% (21/144)   \rReceiving objects:  15% (22/144)   \rReceiving objects:  16% (24/144)   \rReceiving objects:  17% (25/144)   \rReceiving objects:  18% (26/144)   \rReceiving objects:  19% (28/144)   \rReceiving objects:  20% (29/144)   \rReceiving objects:  21% (31/144)   \rReceiving objects:  22% (32/144)   \rReceiving objects:  23% (34/144)   \rReceiving objects:  24% (35/144)   \rReceiving objects:  25% (36/144)   \rReceiving objects:  26% (38/144)   \rReceiving objects:  27% (39/144)   \rReceiving objects:  28% (41/144)   \rReceiving objects:  29% (42/144)   \rReceiving objects:  30% (44/144)   \rReceiving objects:  31% (45/144)   \rReceiving objects:  32% (47/144)   \rReceiving objects:  33% (48/144)   \rReceiving objects:  34% (49/144)   \rReceiving objects:  35% (51/144)   \rReceiving objects:  36% (52/144)   \rReceiving objects:  37% (54/144)   \rReceiving objects:  38% (55/144)   \rReceiving objects:  39% (57/144)   \rReceiving objects:  40% (58/144)   \rReceiving objects:  41% (60/144)   \rReceiving objects:  42% (61/144)   \rReceiving objects:  43% (62/144)   \rReceiving objects:  44% (64/144)   \rReceiving objects:  45% (65/144)   \rReceiving objects:  46% (67/144)   \rReceiving objects:  47% (68/144)   \rReceiving objects:  48% (70/144)   \rReceiving objects:  49% (71/144)   \rReceiving objects:  50% (72/144)   \rReceiving objects:  51% (74/144)   \rReceiving objects:  52% (75/144)   \rReceiving objects:  53% (77/144)   \rReceiving objects:  54% (78/144)   \rReceiving objects:  55% (80/144)   \rReceiving objects:  56% (81/144)   \rReceiving objects:  57% (83/144)   \rReceiving objects:  58% (84/144)   \rReceiving objects:  59% (85/144)   \rReceiving objects:  60% (87/144)   \rremote: Total 144 (delta 36), reused 0 (delta 0), pack-reused 66\u001b[K\n",
            "Receiving objects:  61% (88/144)   \rReceiving objects:  62% (90/144)   \rReceiving objects:  63% (91/144)   \rReceiving objects:  64% (93/144)   \rReceiving objects:  65% (94/144)   \rReceiving objects:  66% (96/144)   \rReceiving objects:  67% (97/144)   \rReceiving objects:  68% (98/144)   \rReceiving objects:  69% (100/144)   \rReceiving objects:  70% (101/144)   \rReceiving objects:  71% (103/144)   \rReceiving objects:  72% (104/144)   \rReceiving objects:  73% (106/144)   \rReceiving objects:  74% (107/144)   \rReceiving objects:  75% (108/144)   \rReceiving objects:  76% (110/144)   \rReceiving objects:  77% (111/144)   \rReceiving objects:  78% (113/144)   \rReceiving objects:  79% (114/144)   \rReceiving objects:  80% (116/144)   \rReceiving objects:  81% (117/144)   \rReceiving objects:  82% (119/144)   \rReceiving objects:  83% (120/144)   \rReceiving objects:  84% (121/144)   \rReceiving objects:  85% (123/144)   \rReceiving objects:  86% (124/144)   \rReceiving objects:  87% (126/144)   \rReceiving objects:  88% (127/144)   \rReceiving objects:  89% (129/144)   \rReceiving objects:  90% (130/144)   \rReceiving objects:  91% (132/144)   \rReceiving objects:  92% (133/144)   \rReceiving objects:  93% (134/144)   \rReceiving objects:  94% (136/144)   \rReceiving objects:  95% (137/144)   \rReceiving objects:  96% (139/144)   \rReceiving objects:  97% (140/144)   \rReceiving objects:  98% (142/144)   \rReceiving objects:  99% (143/144)   \rReceiving objects: 100% (144/144)   \rReceiving objects: 100% (144/144), 55.61 KiB | 593.00 KiB/s, done.\n",
            "Resolving deltas:   0% (0/59)   \rResolving deltas:  15% (9/59)   \rResolving deltas:  38% (23/59)   \rResolving deltas:  64% (38/59)   \rResolving deltas:  71% (42/59)   \rResolving deltas:  72% (43/59)   \rResolving deltas:  79% (47/59)   \rResolving deltas:  86% (51/59)   \rResolving deltas: 100% (59/59)   \rResolving deltas: 100% (59/59), done.\n"
          ],
          "name": "stdout"
        },
        {
          "output_type": "stream",
          "text": [
            "Using TensorFlow backend.\n"
          ],
          "name": "stderr"
        }
      ]
    },
    {
      "cell_type": "code",
      "metadata": {
        "id": "W5kf8Ek_Kw5Y",
        "colab_type": "code",
        "outputId": "02e6c357-85c8-4bbe-ec4d-514380b31451",
        "colab": {
          "base_uri": "https://localhost:8080/",
          "height": 121
        }
      },
      "source": [
        "drive.mount('/content/drive')"
      ],
      "execution_count": 5,
      "outputs": [
        {
          "output_type": "stream",
          "text": [
            "Go to this URL in a browser: https://accounts.google.com/o/oauth2/auth?client_id=947318989803-6bn6qk8qdgf4n4g3pfee6491hc0brc4i.apps.googleusercontent.com&redirect_uri=urn%3aietf%3awg%3aoauth%3a2.0%3aoob&response_type=code&scope=email%20https%3a%2f%2fwww.googleapis.com%2fauth%2fdocs.test%20https%3a%2f%2fwww.googleapis.com%2fauth%2fdrive%20https%3a%2f%2fwww.googleapis.com%2fauth%2fdrive.photos.readonly%20https%3a%2f%2fwww.googleapis.com%2fauth%2fpeopleapi.readonly\n",
            "\n",
            "Enter your authorization code:\n",
            "··········\n",
            "Mounted at /content/drive\n"
          ],
          "name": "stdout"
        }
      ]
    },
    {
      "cell_type": "code",
      "metadata": {
        "id": "4LfLeMAyQU7z",
        "colab_type": "code",
        "colab": {}
      },
      "source": [
        "BATCH_SIZE = 512 #@param {type:\"integer\"}\n",
        "MOMENTUM = 0.9 #@param {type:\"number\"}\n",
        "LEARNING_RATE = 1 #@param {type:\"number\"}\n",
        "WEIGHT_DECAY = 5e-4 #@param {type:\"number\"}\n",
        "EPOCHS = 30 #@param {type:\"integer\"}"
      ],
      "execution_count": 0,
      "outputs": []
    },
    {
      "cell_type": "code",
      "metadata": {
        "id": "FemMIAEHt_Kg",
        "colab_type": "code",
        "colab": {}
      },
      "source": [
        "#Configuration\n",
        "\n",
        "NUM_CLASSES = 10 \n",
        "IMG_SHAPE=[32, 32, 3]\n",
        "NUM_TRAIN_IMG = 50000\n",
        "NUM_TEST_IMG = 10000\n",
        "BATCHES_PER_EPOCH = NUM_TRAIN_IMG//BATCH_SIZE\n",
        "VALIDATION_STEPS = NUM_TEST_IMG//BATCH_SIZE"
      ],
      "execution_count": 0,
      "outputs": []
    },
    {
      "cell_type": "code",
      "metadata": {
        "id": "XEww2GEXK0vq",
        "colab_type": "code",
        "colab": {}
      },
      "source": [
        "tfrecord_utils.convert_to_tfRecord('CIFAR10',trainFile='/content/drive/My Drive/datasets/cifarTfTrain.tfrecords', testFile='/content/drive/My Drive/datasets/cifarTfTest.tfrecords')\n",
        "train_x, train_y = tfrecord_utils.parse_tfRecord_plain('/content/drive/My Drive/datasets/cifarTfTrain.tfrecords', NUM_TRAIN_IMG, IMG_SHAPE)\n",
        "test_x, test_y = tfrecord_utils.parse_tfRecord_plain('/content/drive/My Drive/datasets/cifarTfTest.tfrecords', NUM_TEST_IMG, IMG_SHAPE)"
      ],
      "execution_count": 0,
      "outputs": []
    },
    {
      "cell_type": "code",
      "metadata": {
        "id": "VH2Scm7fK229",
        "colab_type": "code",
        "colab": {}
      },
      "source": [
        "train_mean = tf.keras.backend.mean(train_x, axis=(0,1,2))\n",
        "train_std = tf.keras.backend.std(train_x, axis=(0,1,2))\n",
        "\n",
        "normalize = lambda x: ((x - train_mean) / train_std) # todo: check here\n",
        "pad4 = lambda x: tf.pad(x, [(0, 0), (4, 4), (4, 4), (0, 0)], mode='reflect')\n",
        "\n",
        "train_x = normalize(pad4(train_x))\n",
        "test_x = normalize(test_x)\n",
        "\n",
        "train_y = tf.cast(train_y, dtype='int64')\n",
        "test_y = tf.cast(test_y, dtype='int64')"
      ],
      "execution_count": 0,
      "outputs": []
    },
    {
      "cell_type": "code",
      "metadata": {
        "id": "fETZEVrJK5IR",
        "colab_type": "code",
        "colab": {}
      },
      "source": [
        "test_set = tf.data.Dataset.from_tensor_slices((test_x, test_y))\n",
        "train_set = tf.data.Dataset.from_tensor_slices((train_x, train_y))"
      ],
      "execution_count": 0,
      "outputs": []
    },
    {
      "cell_type": "code",
      "metadata": {
        "id": "AwS9BRv_QWR0",
        "colab_type": "code",
        "colab": {}
      },
      "source": [
        "def init_pytorch(shape, dtype=tf.float32, partition_info=None):\n",
        "  fan = np.prod(shape[:-1])\n",
        "  bound = 1 / math.sqrt(fan)\n",
        "  return tf.random.uniform(shape, minval=-bound, maxval=bound, dtype=dtype)"
      ],
      "execution_count": 0,
      "outputs": []
    },
    {
      "cell_type": "code",
      "metadata": {
        "id": "gQdPrpJ8QXvy",
        "colab_type": "code",
        "colab": {}
      },
      "source": [
        "class ConvBN(tf.keras.Model):\n",
        "  def __init__(self, c_out):\n",
        "    super().__init__()\n",
        "    self.conv = tf.keras.layers.Conv2D(filters=c_out, kernel_size=3, padding=\"SAME\", kernel_initializer=init_pytorch, use_bias=False)\n",
        "    self.bn = tf.keras.layers.BatchNormalization(momentum=0.9, epsilon=1e-5)\n",
        "\n",
        "  def call(self, inputs):\n",
        "    return tf.nn.relu(self.bn(self.conv(inputs)))"
      ],
      "execution_count": 0,
      "outputs": []
    },
    {
      "cell_type": "code",
      "metadata": {
        "id": "oBuqNlb7QZc9",
        "colab_type": "code",
        "colab": {}
      },
      "source": [
        "class ResBlk(tf.keras.Model):\n",
        "  def __init__(self, c_out, pool, res = False):\n",
        "    super().__init__()\n",
        "    self.conv_bn = ConvBN(c_out)\n",
        "    self.pool = pool\n",
        "    self.res = res\n",
        "    if self.res:\n",
        "      self.res1 = ConvBN(c_out)\n",
        "      self.res2 = ConvBN(c_out)\n",
        "\n",
        "  def call(self, inputs):\n",
        "    h = self.pool(self.conv_bn(inputs))\n",
        "    if self.res:\n",
        "      h = h + self.res2(self.res1(h))\n",
        "    return h"
      ],
      "execution_count": 0,
      "outputs": []
    },
    {
      "cell_type": "code",
      "metadata": {
        "id": "uB5ENbbjQa7r",
        "colab_type": "code",
        "colab": {}
      },
      "source": [
        "class DavidNet(tf.keras.Model):\n",
        "  def __init__(self, c=64, weight=0.125):\n",
        "    super().__init__()\n",
        "    pool = tf.keras.layers.MaxPooling2D()\n",
        "    self.init_conv_bn = ConvBN(c)\n",
        "    self.blk1 = ResBlk(c*2, pool, res = True)\n",
        "    self.blk2 = ResBlk(c*4, pool)\n",
        "    self.blk3 = ResBlk(c*8, pool, res = True)\n",
        "    self.pool = tf.keras.layers.GlobalMaxPool2D()\n",
        "    self.linear = tf.keras.layers.Dense(10, kernel_initializer=init_pytorch, use_bias=False)\n",
        "    self.weight = weight\n",
        "\n",
        "  def call(self, x, y):\n",
        "    h = self.pool(self.blk3(self.blk2(self.blk1(self.init_conv_bn(x)))))\n",
        "    h = self.linear(h) * self.weight\n",
        "    ce = tf.nn.sparse_softmax_cross_entropy_with_logits(logits=h, labels=y)\n",
        "    loss = tf.reduce_sum(ce)\n",
        "    correct = tf.reduce_sum(tf.cast(tf.math.equal(tf.argmax(h, axis = 1), y), tf.float32))\n",
        "    return loss, correct"
      ],
      "execution_count": 0,
      "outputs": []
    },
    {
      "cell_type": "code",
      "metadata": {
        "id": "bs5ee8l74eCH",
        "colab_type": "code",
        "colab": {}
      },
      "source": [
        "model = DavidNet()\n",
        "\n",
        "batches_per_epoch = NUM_TRAIN_IMG//BATCH_SIZE + 1\n",
        "\n",
        "lr_schedule = lambda t: np.interp([t], [0, (EPOCHS+1)//5, int((EPOCHS+1)*0.8),EPOCHS], [LEARNING_RATE/5, LEARNING_RATE, LEARNING_RATE/10, 0.01])[0]\n",
        "global_step = tf.train.get_or_create_global_step()\n",
        "lr_func = lambda: lr_schedule(global_step/batches_per_epoch)/BATCH_SIZE\n",
        "opt = tf.train.MomentumOptimizer(lr_func, momentum=MOMENTUM, use_nesterov=True)\n",
        "data_aug = lambda x, y: (tf.image.random_crop(tf.image.random_flip_left_right(dt.cutOut(x,8,8,0,1)), IMG_SHAPE),y)"
      ],
      "execution_count": 0,
      "outputs": []
    },
    {
      "cell_type": "code",
      "metadata": {
        "id": "l_bL-1BZmh4e",
        "colab_type": "code",
        "outputId": "e00ae637-f718-4dcb-d1e3-a843435714ac",
        "colab": {
          "base_uri": "https://localhost:8080/",
          "height": 279
        }
      },
      "source": [
        "#plot learning rate scheduler\n",
        "\n",
        "epoch_num = []\n",
        "lr_val = []\n",
        "for i in range(EPOCHS):\n",
        "    epoch_num.append(i)\n",
        "    lr_val.append(lr_schedule(i))\n",
        "\n",
        "plt.plot(epoch_num, lr_val) \n",
        "plt.xlabel('Epochs') \n",
        "plt.ylabel('LR') \n",
        "plt.show() "
      ],
      "execution_count": 16,
      "outputs": [
        {
          "output_type": "display_data",
          "data": {
            "image/png": "[encoded data removed]",
            "text/plain": [
              "<Figure size 432x288 with 1 Axes>"
            ]
          },
          "metadata": {
            "tags": []
          }
        }
      ]
    },
    {
      "cell_type": "code",
      "metadata": {
        "id": "Eeqp9zgtQjQN",
        "colab_type": "code",
        "outputId": "6d8f0e91-c002-4c07-f3b2-c72fd0975857",
        "colab": {
          "base_uri": "https://localhost:8080/",
          "height": 1000
        }
      },
      "source": [
        "t = time.time()\n",
        "test_set_1 = test_set.batch(BATCH_SIZE)\n",
        "\n",
        "for epoch in range(EPOCHS):\n",
        "  train_loss = test_loss = train_acc = test_acc = 0.0\n",
        "  train_set_aug = train_set.map(data_aug).shuffle(NUM_TRAIN_IMG).batch(BATCH_SIZE).prefetch(1)\n",
        "\n",
        "  tf.keras.backend.set_learning_phase(1)\n",
        "  for (x, y) in tqdm(train_set_aug):\n",
        "    with tf.GradientTape() as tape:\n",
        "      loss, correct = model(x, y)\n",
        "\n",
        "    var = model.trainable_variables\n",
        "    grads = tape.gradient(loss, var)\n",
        "    for g, v in zip(grads, var):\n",
        "      g += v * WEIGHT_DECAY * BATCH_SIZE\n",
        "    opt.apply_gradients(zip(grads, var), global_step=global_step)\n",
        "\n",
        "    train_loss += loss.numpy()\n",
        "    train_acc += correct.numpy()\n",
        "\n",
        "  tf.keras.backend.set_learning_phase(0)\n",
        "  for (x, y) in test_set_1:\n",
        "    loss, correct = model(x, y)\n",
        "    test_loss += loss.numpy()\n",
        "    test_acc += correct.numpy()\n",
        "    \n",
        "  print('epoch:', epoch+1, 'lr:', lr_schedule(epoch+1), 'train loss:', train_loss / NUM_TRAIN_IMG, 'train acc:', train_acc / NUM_TRAIN_IMG, 'val loss:', test_loss / NUM_TEST_IMG, 'val acc:', test_acc / NUM_TEST_IMG, 'time:', time.time() - t)"
      ],
      "execution_count": 17,
      "outputs": [
        {
          "output_type": "stream",
          "text": [
            "WARNING:tensorflow:From /content/DNN_utils/data_transforms.py:207: where (from tensorflow.python.ops.array_ops) is deprecated and will be removed in a future version.\n",
            "Instructions for updating:\n",
            "Use tf.where in 2.0, which has the same broadcast rule as np.where\n"
          ],
          "name": "stdout"
        },
        {
          "output_type": "display_data",
          "data": {
            "application/vnd.jupyter.widget-view+json": {
              "model_id": "cd0a5ac2a0d043d69a94914e155018bc",
              "version_minor": 0,
              "version_major": 2
            },
            "text/plain": [
              "HBox(children=(IntProgress(value=1, bar_style='info', max=1), HTML(value='')))"
            ]
          },
          "metadata": {
            "tags": []
          }
        },
        {
          "output_type": "stream",
          "text": [
            "\n",
            "epoch: 1 lr: 0.33333333333333337 train loss: 1.4823415765380858 train acc: 0.45438 val loss: 1.7728966705322267 val acc: 0.4572 time: 34.44650888442993\n"
          ],
          "name": "stdout"
        },
        {
          "output_type": "display_data",
          "data": {
            "application/vnd.jupyter.widget-view+json": {
              "model_id": "46710fd46e2f4854b115e93a74a3d92a",
              "version_minor": 0,
              "version_major": 2
            },
            "text/plain": [
              "HBox(children=(IntProgress(value=1, bar_style='info', max=1), HTML(value='')))"
            ]
          },
          "metadata": {
            "tags": []
          }
        },
        {
          "output_type": "stream",
          "text": [
            "\n",
            "epoch: 2 lr: 0.4666666666666667 train loss: 0.9417958587646484 train acc: 0.6689 val loss: 0.8589037872314453 val acc: 0.6969 time: 63.024739265441895\n"
          ],
          "name": "stdout"
        },
        {
          "output_type": "display_data",
          "data": {
            "application/vnd.jupyter.widget-view+json": {
              "model_id": "501c89f77fd54642bd9b14a115af466e",
              "version_minor": 0,
              "version_major": 2
            },
            "text/plain": [
              "HBox(children=(IntProgress(value=1, bar_style='info', max=1), HTML(value='')))"
            ]
          },
          "metadata": {
            "tags": []
          }
        },
        {
          "output_type": "stream",
          "text": [
            "\n",
            "epoch: 3 lr: 0.6000000000000001 train loss: 0.7354410418701172 train acc: 0.74344 val loss: 0.6313902633666992 val acc: 0.7808 time: 91.16496586799622\n"
          ],
          "name": "stdout"
        },
        {
          "output_type": "display_data",
          "data": {
            "application/vnd.jupyter.widget-view+json": {
              "model_id": "7c97fd3df97b4e788e14aa654e8f5964",
              "version_minor": 0,
              "version_major": 2
            },
            "text/plain": [
              "HBox(children=(IntProgress(value=1, bar_style='info', max=1), HTML(value='')))"
            ]
          },
          "metadata": {
            "tags": []
          }
        },
        {
          "output_type": "stream",
          "text": [
            "\n",
            "epoch: 4 lr: 0.7333333333333334 train loss: 0.6090265924072266 train acc: 0.79044 val loss: 0.7051972351074218 val acc: 0.7672 time: 119.37249684333801\n"
          ],
          "name": "stdout"
        },
        {
          "output_type": "display_data",
          "data": {
            "application/vnd.jupyter.widget-view+json": {
              "model_id": "3a947f06480640f2b3f2d8396d0a081c",
              "version_minor": 0,
              "version_major": 2
            },
            "text/plain": [
              "HBox(children=(IntProgress(value=1, bar_style='info', max=1), HTML(value='')))"
            ]
          },
          "metadata": {
            "tags": []
          }
        },
        {
          "output_type": "stream",
          "text": [
            "\n",
            "epoch: 5 lr: 0.8666666666666667 train loss: 0.5289093301391602 train acc: 0.81704 val loss: 0.803522917175293 val acc: 0.7292 time: 147.41888189315796\n"
          ],
          "name": "stdout"
        },
        {
          "output_type": "display_data",
          "data": {
            "application/vnd.jupyter.widget-view+json": {
              "model_id": "ccf903b517f641fa9479a4e815484209",
              "version_minor": 0,
              "version_major": 2
            },
            "text/plain": [
              "HBox(children=(IntProgress(value=1, bar_style='info', max=1), HTML(value='')))"
            ]
          },
          "metadata": {
            "tags": []
          }
        },
        {
          "output_type": "stream",
          "text": [
            "\n",
            "epoch: 6 lr: 1.0 train loss: 0.44968866943359376 train acc: 0.84188 val loss: 0.5807058410644531 val acc: 0.8069 time: 175.3611261844635\n"
          ],
          "name": "stdout"
        },
        {
          "output_type": "display_data",
          "data": {
            "application/vnd.jupyter.widget-view+json": {
              "model_id": "0569cef1fb5b40b2bb46bc1c3f03a0b1",
              "version_minor": 0,
              "version_major": 2
            },
            "text/plain": [
              "HBox(children=(IntProgress(value=1, bar_style='info', max=1), HTML(value='')))"
            ]
          },
          "metadata": {
            "tags": []
          }
        },
        {
          "output_type": "stream",
          "text": [
            "\n",
            "epoch: 7 lr: 0.95 train loss: 0.40134485595703123 train acc: 0.86076 val loss: 0.4849019119262695 val acc: 0.8381 time: 203.33996844291687\n"
          ],
          "name": "stdout"
        },
        {
          "output_type": "display_data",
          "data": {
            "application/vnd.jupyter.widget-view+json": {
              "model_id": "f25550450d7d43b18204309785d21975",
              "version_minor": 0,
              "version_major": 2
            },
            "text/plain": [
              "HBox(children=(IntProgress(value=1, bar_style='info', max=1), HTML(value='')))"
            ]
          },
          "metadata": {
            "tags": []
          }
        },
        {
          "output_type": "stream",
          "text": [
            "\n",
            "epoch: 8 lr: 0.9 train loss: 0.3492153713989258 train acc: 0.8773 val loss: 0.45336585998535156 val acc: 0.8517 time: 231.2734797000885\n"
          ],
          "name": "stdout"
        },
        {
          "output_type": "display_data",
          "data": {
            "application/vnd.jupyter.widget-view+json": {
              "model_id": "908751bc89d547e3b487fade710c26b6",
              "version_minor": 0,
              "version_major": 2
            },
            "text/plain": [
              "HBox(children=(IntProgress(value=1, bar_style='info', max=1), HTML(value='')))"
            ]
          },
          "metadata": {
            "tags": []
          }
        },
        {
          "output_type": "stream",
          "text": [
            "\n",
            "epoch: 9 lr: 0.85 train loss: 0.3068003401184082 train acc: 0.8925 val loss: 0.42669003448486326 val acc: 0.8657 time: 259.1677107810974\n"
          ],
          "name": "stdout"
        },
        {
          "output_type": "display_data",
          "data": {
            "application/vnd.jupyter.widget-view+json": {
              "model_id": "ad6bf23c478a489488a41b69cbb549e4",
              "version_minor": 0,
              "version_major": 2
            },
            "text/plain": [
              "HBox(children=(IntProgress(value=1, bar_style='info', max=1), HTML(value='')))"
            ]
          },
          "metadata": {
            "tags": []
          }
        },
        {
          "output_type": "stream",
          "text": [
            "\n",
            "epoch: 10 lr: 0.8 train loss: 0.26461593048095705 train acc: 0.9081 val loss: 0.36808995208740236 val acc: 0.8789 time: 286.9471654891968\n"
          ],
          "name": "stdout"
        },
        {
          "output_type": "display_data",
          "data": {
            "application/vnd.jupyter.widget-view+json": {
              "model_id": "166f606e0fc94c74a36a5957e845379b",
              "version_minor": 0,
              "version_major": 2
            },
            "text/plain": [
              "HBox(children=(IntProgress(value=1, bar_style='info', max=1), HTML(value='')))"
            ]
          },
          "metadata": {
            "tags": []
          }
        },
        {
          "output_type": "stream",
          "text": [
            "\n",
            "epoch: 11 lr: 0.75 train loss: 0.24071693572998046 train acc: 0.91664 val loss: 0.3571105438232422 val acc: 0.8833 time: 314.9842314720154\n"
          ],
          "name": "stdout"
        },
        {
          "output_type": "display_data",
          "data": {
            "application/vnd.jupyter.widget-view+json": {
              "model_id": "4675c40e635841179253907df822d477",
              "version_minor": 0,
              "version_major": 2
            },
            "text/plain": [
              "HBox(children=(IntProgress(value=1, bar_style='info', max=1), HTML(value='')))"
            ]
          },
          "metadata": {
            "tags": []
          }
        },
        {
          "output_type": "stream",
          "text": [
            "\n",
            "epoch: 12 lr: 0.7 train loss: 0.22051381820678712 train acc: 0.92276 val loss: 0.3908932411193848 val acc: 0.8792 time: 342.91675329208374\n"
          ],
          "name": "stdout"
        },
        {
          "output_type": "display_data",
          "data": {
            "application/vnd.jupyter.widget-view+json": {
              "model_id": "76d4e0ec625a434db5aaaf330aafcc6b",
              "version_minor": 0,
              "version_major": 2
            },
            "text/plain": [
              "HBox(children=(IntProgress(value=1, bar_style='info', max=1), HTML(value='')))"
            ]
          },
          "metadata": {
            "tags": []
          }
        },
        {
          "output_type": "stream",
          "text": [
            "\n",
            "epoch: 13 lr: 0.6499999999999999 train loss: 0.19780623336791991 train acc: 0.93078 val loss: 0.31127082977294923 val acc: 0.9022 time: 370.85307598114014\n"
          ],
          "name": "stdout"
        },
        {
          "output_type": "display_data",
          "data": {
            "application/vnd.jupyter.widget-view+json": {
              "model_id": "31680d59b6c94627bbb72222b8e27de8",
              "version_minor": 0,
              "version_major": 2
            },
            "text/plain": [
              "HBox(children=(IntProgress(value=1, bar_style='info', max=1), HTML(value='')))"
            ]
          },
          "metadata": {
            "tags": []
          }
        },
        {
          "output_type": "stream",
          "text": [
            "\n",
            "epoch: 14 lr: 0.6 train loss: 0.1740492526245117 train acc: 0.93938 val loss: 0.3413909553527832 val acc: 0.8903 time: 398.82975721359253\n"
          ],
          "name": "stdout"
        },
        {
          "output_type": "display_data",
          "data": {
            "application/vnd.jupyter.widget-view+json": {
              "model_id": "eca35c6bca0d4667a1dabc90f341a081",
              "version_minor": 0,
              "version_major": 2
            },
            "text/plain": [
              "HBox(children=(IntProgress(value=1, bar_style='info', max=1), HTML(value='')))"
            ]
          },
          "metadata": {
            "tags": []
          }
        },
        {
          "output_type": "stream",
          "text": [
            "\n",
            "epoch: 15 lr: 0.55 train loss: 0.1587451919555664 train acc: 0.94436 val loss: 0.3082832931518555 val acc: 0.9033 time: 426.8961069583893\n"
          ],
          "name": "stdout"
        },
        {
          "output_type": "display_data",
          "data": {
            "application/vnd.jupyter.widget-view+json": {
              "model_id": "dfe7dafe9c18495c9dfbeb81b0a58486",
              "version_minor": 0,
              "version_major": 2
            },
            "text/plain": [
              "HBox(children=(IntProgress(value=1, bar_style='info', max=1), HTML(value='')))"
            ]
          },
          "metadata": {
            "tags": []
          }
        },
        {
          "output_type": "stream",
          "text": [
            "\n",
            "epoch: 16 lr: 0.5 train loss: 0.14165781455993653 train acc: 0.95122 val loss: 0.2834861053466797 val acc: 0.9137 time: 454.9461193084717\n"
          ],
          "name": "stdout"
        },
        {
          "output_type": "display_data",
          "data": {
            "application/vnd.jupyter.widget-view+json": {
              "model_id": "46d5bf0ddfaa49f0adbc2e215c005849",
              "version_minor": 0,
              "version_major": 2
            },
            "text/plain": [
              "HBox(children=(IntProgress(value=1, bar_style='info', max=1), HTML(value='')))"
            ]
          },
          "metadata": {
            "tags": []
          }
        },
        {
          "output_type": "stream",
          "text": [
            "\n",
            "epoch: 17 lr: 0.44999999999999996 train loss: 0.12582446380615234 train acc: 0.95652 val loss: 0.2934601280212402 val acc: 0.9069 time: 483.0159296989441\n"
          ],
          "name": "stdout"
        },
        {
          "output_type": "display_data",
          "data": {
            "application/vnd.jupyter.widget-view+json": {
              "model_id": "3f0c0996408c4a41b88f8b867e80b355",
              "version_minor": 0,
              "version_major": 2
            },
            "text/plain": [
              "HBox(children=(IntProgress(value=1, bar_style='info', max=1), HTML(value='')))"
            ]
          },
          "metadata": {
            "tags": []
          }
        },
        {
          "output_type": "stream",
          "text": [
            "\n",
            "epoch: 18 lr: 0.3999999999999999 train loss: 0.10775788803100586 train acc: 0.96222 val loss: 0.26756296005249025 val acc: 0.9188 time: 511.17708373069763\n"
          ],
          "name": "stdout"
        },
        {
          "output_type": "display_data",
          "data": {
            "application/vnd.jupyter.widget-view+json": {
              "model_id": "1738c9fd8d5743b6a58246c7ee3ef976",
              "version_minor": 0,
              "version_major": 2
            },
            "text/plain": [
              "HBox(children=(IntProgress(value=1, bar_style='info', max=1), HTML(value='')))"
            ]
          },
          "metadata": {
            "tags": []
          }
        },
        {
          "output_type": "stream",
          "text": [
            "\n",
            "epoch: 19 lr: 0.35 train loss: 0.09968965293884277 train acc: 0.96512 val loss: 0.2816333137512207 val acc: 0.9167 time: 539.5033085346222\n"
          ],
          "name": "stdout"
        },
        {
          "output_type": "display_data",
          "data": {
            "application/vnd.jupyter.widget-view+json": {
              "model_id": "cd144cae41354a71b8c0fab116137ecd",
              "version_minor": 0,
              "version_major": 2
            },
            "text/plain": [
              "HBox(children=(IntProgress(value=1, bar_style='info', max=1), HTML(value='')))"
            ]
          },
          "metadata": {
            "tags": []
          }
        },
        {
          "output_type": "stream",
          "text": [
            "\n",
            "epoch: 20 lr: 0.29999999999999993 train loss: 0.08736301681518555 train acc: 0.96974 val loss: 0.2623937316894531 val acc: 0.9225 time: 567.6838974952698\n"
          ],
          "name": "stdout"
        },
        {
          "output_type": "display_data",
          "data": {
            "application/vnd.jupyter.widget-view+json": {
              "model_id": "fed033aa738a4b9da3dc4518b1df15e2",
              "version_minor": 0,
              "version_major": 2
            },
            "text/plain": [
              "HBox(children=(IntProgress(value=1, bar_style='info', max=1), HTML(value='')))"
            ]
          },
          "metadata": {
            "tags": []
          }
        },
        {
          "output_type": "stream",
          "text": [
            "\n",
            "epoch: 21 lr: 0.25 train loss: 0.07392616565704346 train acc: 0.97408 val loss: 0.25257853012084963 val acc: 0.9231 time: 595.8542323112488\n"
          ],
          "name": "stdout"
        },
        {
          "output_type": "display_data",
          "data": {
            "application/vnd.jupyter.widget-view+json": {
              "model_id": "38ea57cc88d8405cae8d9b894c1caf28",
              "version_minor": 0,
              "version_major": 2
            },
            "text/plain": [
              "HBox(children=(IntProgress(value=1, bar_style='info', max=1), HTML(value='')))"
            ]
          },
          "metadata": {
            "tags": []
          }
        },
        {
          "output_type": "stream",
          "text": [
            "\n",
            "epoch: 22 lr: 0.19999999999999996 train loss: 0.06673388172149658 train acc: 0.97684 val loss: 0.24529243545532226 val acc: 0.9293 time: 623.9681851863861\n"
          ],
          "name": "stdout"
        },
        {
          "output_type": "display_data",
          "data": {
            "application/vnd.jupyter.widget-view+json": {
              "model_id": "88f4137c8e2f4b1f8972c9f07e4d6bc0",
              "version_minor": 0,
              "version_major": 2
            },
            "text/plain": [
              "HBox(children=(IntProgress(value=1, bar_style='info', max=1), HTML(value='')))"
            ]
          },
          "metadata": {
            "tags": []
          }
        },
        {
          "output_type": "stream",
          "text": [
            "\n",
            "epoch: 23 lr: 0.1499999999999999 train loss: 0.05909115528106689 train acc: 0.97976 val loss: 0.24614822006225587 val acc: 0.9299 time: 652.3263895511627\n"
          ],
          "name": "stdout"
        },
        {
          "output_type": "display_data",
          "data": {
            "application/vnd.jupyter.widget-view+json": {
              "model_id": "83d75015b1bc45ddbfbbd37fdd8bcd89",
              "version_minor": 0,
              "version_major": 2
            },
            "text/plain": [
              "HBox(children=(IntProgress(value=1, bar_style='info', max=1), HTML(value='')))"
            ]
          },
          "metadata": {
            "tags": []
          }
        },
        {
          "output_type": "stream",
          "text": [
            "\n",
            "epoch: 24 lr: 0.1 train loss: 0.05095312406539917 train acc: 0.98262 val loss: 0.2401236801147461 val acc: 0.932 time: 680.4055454730988\n"
          ],
          "name": "stdout"
        },
        {
          "output_type": "display_data",
          "data": {
            "application/vnd.jupyter.widget-view+json": {
              "model_id": "392306c9077d41cf86447297f92dd061",
              "version_minor": 0,
              "version_major": 2
            },
            "text/plain": [
              "HBox(children=(IntProgress(value=1, bar_style='info', max=1), HTML(value='')))"
            ]
          },
          "metadata": {
            "tags": []
          }
        },
        {
          "output_type": "stream",
          "text": [
            "\n",
            "epoch: 25 lr: 0.085 train loss: 0.04776399856567383 train acc: 0.98402 val loss: 0.23575886917114258 val acc: 0.9322 time: 708.6199951171875\n"
          ],
          "name": "stdout"
        },
        {
          "output_type": "display_data",
          "data": {
            "application/vnd.jupyter.widget-view+json": {
              "model_id": "738785024ccd4a92889d431cb51c4f21",
              "version_minor": 0,
              "version_major": 2
            },
            "text/plain": [
              "HBox(children=(IntProgress(value=1, bar_style='info', max=1), HTML(value='')))"
            ]
          },
          "metadata": {
            "tags": []
          }
        },
        {
          "output_type": "stream",
          "text": [
            "\n",
            "epoch: 26 lr: 0.07 train loss: 0.045130267391204834 train acc: 0.985 val loss: 0.23587980270385742 val acc: 0.9335 time: 736.9000918865204\n"
          ],
          "name": "stdout"
        },
        {
          "output_type": "display_data",
          "data": {
            "application/vnd.jupyter.widget-view+json": {
              "model_id": "09036890a81e4d3b81304bf4b6533298",
              "version_minor": 0,
              "version_major": 2
            },
            "text/plain": [
              "HBox(children=(IntProgress(value=1, bar_style='info', max=1), HTML(value='')))"
            ]
          },
          "metadata": {
            "tags": []
          }
        },
        {
          "output_type": "stream",
          "text": [
            "\n",
            "epoch: 27 lr: 0.055 train loss: 0.04109972049713135 train acc: 0.98622 val loss: 0.2334308780670166 val acc: 0.9338 time: 765.1374001502991\n"
          ],
          "name": "stdout"
        },
        {
          "output_type": "display_data",
          "data": {
            "application/vnd.jupyter.widget-view+json": {
              "model_id": "b1bb8faf3994463193c4bd4c947efcf7",
              "version_minor": 0,
              "version_major": 2
            },
            "text/plain": [
              "HBox(children=(IntProgress(value=1, bar_style='info', max=1), HTML(value='')))"
            ]
          },
          "metadata": {
            "tags": []
          }
        },
        {
          "output_type": "stream",
          "text": [
            "\n",
            "epoch: 28 lr: 0.04 train loss: 0.042188811683654785 train acc: 0.98576 val loss: 0.2347412612915039 val acc: 0.9352 time: 793.4591765403748\n"
          ],
          "name": "stdout"
        },
        {
          "output_type": "display_data",
          "data": {
            "application/vnd.jupyter.widget-view+json": {
              "model_id": "bd24f1d8077a4f67a643ab6243304fea",
              "version_minor": 0,
              "version_major": 2
            },
            "text/plain": [
              "HBox(children=(IntProgress(value=1, bar_style='info', max=1), HTML(value='')))"
            ]
          },
          "metadata": {
            "tags": []
          }
        },
        {
          "output_type": "stream",
          "text": [
            "\n",
            "epoch: 29 lr: 0.024999999999999994 train loss: 0.036409507217407225 train acc: 0.98852 val loss: 0.23317779998779298 val acc: 0.9359 time: 821.7264485359192\n"
          ],
          "name": "stdout"
        },
        {
          "output_type": "display_data",
          "data": {
            "application/vnd.jupyter.widget-view+json": {
              "model_id": "dc2ffbdfb0644dc981a721e3b2e06ed4",
              "version_minor": 0,
              "version_major": 2
            },
            "text/plain": [
              "HBox(children=(IntProgress(value=1, bar_style='info', max=1), HTML(value='')))"
            ]
          },
          "metadata": {
            "tags": []
          }
        },
        {
          "output_type": "stream",
          "text": [
            "\n",
            "epoch: 30 lr: 0.01 train loss: 0.03677791883468628 train acc: 0.98846 val loss: 0.23183784408569336 val acc: 0.9362 time: 850.0841374397278\n"
          ],
          "name": "stdout"
        }
      ]
    }
  ]
}