{
  "nbformat": 4,
  "nbformat_minor": 0,
  "metadata": {
    "colab": {
      "name": "assignment4-iteration1.ipynb",
      "version": "0.3.2",
      "provenance": [],
      "collapsed_sections": [],
      "include_colab_link": true
    },
    "kernelspec": {
      "name": "python3",
      "display_name": "Python 3"
    },
    "accelerator": "GPU"
  },
  "cells": [
    {
      "cell_type": "markdown",
      "metadata": {
        "id": "view-in-github",
        "colab_type": "text"
      },
      "source": [
        "<a href=\"https://colab.research.google.com/github/ApoorvaNagarajan/Image-Filter-Kernels/blob/master/assignment4/assignment4_iteration1.ipynb\" target=\"_parent\"><img src=\"https://colab.research.google.com/assets/colab-badge.svg\" alt=\"Open In Colab\"/></a>"
      ]
    },
    {
      "cell_type": "markdown",
      "metadata": {
        "id": "aNyZv-Ec52ot",
        "colab_type": "text"
      },
      "source": [
        "# **Import Libraries and modules**"
      ]
    },
    {
      "cell_type": "markdown",
      "metadata": {
        "id": "UF2fiJhSIrco",
        "colab_type": "text"
      },
      "source": [
        "**Idea behind the network**\n",
        "\n",
        "- This is a vanila network\n",
        "- Uses the concepts of\n",
        "  - 3x3 kernels for convolution : optimal size\n",
        "  - gradually increase the number of channels\n",
        "  - After a certain receptive field is reached, add transition block\n",
        "  - Add 1x1 as a part of the transition block : will help us reduce the number of parameters while not losing any information\n",
        "  - Use as many layers as required to reach output size of 7x7 after which we can directly compute the score for each of the classes\n",
        "  - Don't use Relu as the activation at the last layer. This will disregard the negative weights of classes at the final layer which may affect the accuracy\n",
        "  - Keep track of validation accuracy of 1st two epochs as an initial indicator of the performance of the network"
      ]
    },
    {
      "cell_type": "markdown",
      "metadata": {
        "id": "xjM9bxWOK__1",
        "colab_type": "text"
      },
      "source": [
        "**Observations : Filled after running the network below. (Have put it in the top so that this is not missed out)**\n",
        "\n",
        "- Parameters : 195,352\n",
        "- Epochs : 10\n",
        "- val_acc : 0.9921\n",
        "- Time taken for each epoch : 240us\n",
        "- val_acc of first two epochs: 0.9882, 0.9913\n",
        "- Number of parameters are very high compared to the target, in the next iteration, I will try to reduce the parameters while trying to retain the accuracy"
      ]
    },
    {
      "cell_type": "code",
      "metadata": {
        "id": "Eso6UHE080D4",
        "colab_type": "code",
        "outputId": "f4561571-208f-41e7-dfbd-d82351879dea",
        "colab": {
          "base_uri": "https://localhost:8080/",
          "height": 34
        }
      },
      "source": [
        "# Import all the required python libraries\n",
        "import numpy as np\n",
        "\n",
        "from keras.models import Sequential\n",
        "from keras.layers import Dense, Dropout, Activation, Flatten, Add\n",
        "from keras.layers import Convolution2D, MaxPooling2D\n",
        "from keras.utils import np_utils\n",
        "\n",
        "from keras.datasets import mnist"
      ],
      "execution_count": 1,
      "outputs": [
        {
          "output_type": "stream",
          "text": [
            "Using TensorFlow backend.\n"
          ],
          "name": "stderr"
        }
      ]
    },
    {
      "cell_type": "markdown",
      "metadata": {
        "id": "zByEi95J86RD",
        "colab_type": "text"
      },
      "source": [
        "### Load pre-shuffled MNIST data into train and test sets"
      ]
    },
    {
      "cell_type": "code",
      "metadata": {
        "id": "7eRM0QWN83PV",
        "colab_type": "code",
        "outputId": "00554d62-f995-40ce-8c90-9a00f74cb2fa",
        "colab": {
          "base_uri": "https://localhost:8080/",
          "height": 50
        }
      },
      "source": [
        "# downloads the MNIST dataset and splits it into test and train.\n",
        "(X_train, y_train), (X_test, y_test) = mnist.load_data()\n",
        "\n",
        "\n",
        "# X_train and X_test are reshaped from 3 dimensions to 4 dimensions\n",
        "# 1st dim : num images\n",
        "# 2nd and 3rd dim : Width and height of eaach of the images\n",
        "# 4th dim : number of channels in each of the image. We set this to 1 as the\n",
        "#           our dataset has only gray images\n",
        "X_train = X_train.reshape(X_train.shape[0], 28, 28,1)\n",
        "X_test = X_test.reshape(X_test.shape[0], 28, 28,1)\n",
        "\n",
        "\n",
        "# Normalizing the image\n",
        "X_train = X_train.astype('float32')\n",
        "X_test = X_test.astype('float32')\n",
        "X_train /= 255\n",
        "X_test /= 255\n",
        "\n",
        "\n",
        "# Convert 1-dimensional class arrays to 10-dimensional class matrices\n",
        "Y_train = np_utils.to_categorical(y_train, 10)\n",
        "Y_test = np_utils.to_categorical(y_test, 10)"
      ],
      "execution_count": 2,
      "outputs": [
        {
          "output_type": "stream",
          "text": [
            "Downloading data from https://s3.amazonaws.com/img-datasets/mnist.npz\n",
            "11493376/11490434 [==============================] - 0s 0us/step\n"
          ],
          "name": "stdout"
        }
      ]
    },
    {
      "cell_type": "code",
      "metadata": {
        "id": "osKqT73Q9JJB",
        "colab_type": "code",
        "outputId": "5f1aecb0-a846-4323-b8a1-201625bdcf89",
        "colab": {
          "base_uri": "https://localhost:8080/",
          "height": 776
        }
      },
      "source": [
        "from keras.layers import Activation\n",
        "model = Sequential()\n",
        "\n",
        "\n",
        "model.add(Convolution2D(32, 3, 3, activation='relu', input_shape=(28,28,1))) # receptive field: 3x3, output dim: 26x26x32\n",
        "\n",
        "model.add(Convolution2D(64, 3, 3, activation='relu')) # receptive field: 5x5, output dim: 24x24x64\n",
        "model.add(Convolution2D(128, 3, 3, activation='relu')) # receptive field: 7x7, output dim: 22x22x128\n",
        "\n",
        "model.add(MaxPooling2D(pool_size=(2, 2))) # receptive field: 14x14, output dim: 11x11x128\n",
        "model.add(Convolution2D(32, 1, 1, activation='relu')) # receptive field: 14x14, output dim: 11x11x32\n",
        "\n",
        "model.add(Convolution2D(64, 3, 3, activation='relu')) # receptive field: 16x16, output dim: 9x9x64\n",
        "model.add(Convolution2D(128, 3, 3, activation='relu')) # receptive field: 18x18, output dim: 7x7x128\n",
        "\n",
        "model.add(Convolution2D(10, 1, activation='relu')) # receptive field: 18x18, output dim: 7x7x10\n",
        "model.add(Convolution2D(10, 7)) # receptive field: 25x25, output dim: 1x1x10\n",
        "model.add(Flatten())\n",
        "model.add(Activation('softmax'))\n",
        "\n",
        "\n",
        "model.summary()"
      ],
      "execution_count": 3,
      "outputs": [
        {
          "output_type": "stream",
          "text": [
            "WARNING:tensorflow:From /usr/local/lib/python3.6/dist-packages/tensorflow/python/framework/op_def_library.py:263: colocate_with (from tensorflow.python.framework.ops) is deprecated and will be removed in a future version.\n",
            "Instructions for updating:\n",
            "Colocations handled automatically by placer.\n",
            "_________________________________________________________________\n",
            "Layer (type)                 Output Shape              Param #   \n",
            "=================================================================\n",
            "conv2d_1 (Conv2D)            (None, 26, 26, 32)        320       \n",
            "_________________________________________________________________\n",
            "conv2d_2 (Conv2D)            (None, 24, 24, 64)        18496     \n",
            "_________________________________________________________________\n",
            "conv2d_3 (Conv2D)            (None, 22, 22, 128)       73856     \n",
            "_________________________________________________________________\n",
            "max_pooling2d_1 (MaxPooling2 (None, 11, 11, 128)       0         \n",
            "_________________________________________________________________\n",
            "conv2d_4 (Conv2D)            (None, 11, 11, 32)        4128      \n",
            "_________________________________________________________________\n",
            "conv2d_5 (Conv2D)            (None, 9, 9, 64)          18496     \n",
            "_________________________________________________________________\n",
            "conv2d_6 (Conv2D)            (None, 7, 7, 128)         73856     \n",
            "_________________________________________________________________\n",
            "conv2d_7 (Conv2D)            (None, 7, 7, 10)          1290      \n",
            "_________________________________________________________________\n",
            "conv2d_8 (Conv2D)            (None, 1, 1, 10)          4910      \n",
            "_________________________________________________________________\n",
            "flatten_1 (Flatten)          (None, 10)                0         \n",
            "_________________________________________________________________\n",
            "activation_1 (Activation)    (None, 10)                0         \n",
            "=================================================================\n",
            "Total params: 195,352\n",
            "Trainable params: 195,352\n",
            "Non-trainable params: 0\n",
            "_________________________________________________________________\n"
          ],
          "name": "stdout"
        },
        {
          "output_type": "stream",
          "text": [
            "/usr/local/lib/python3.6/dist-packages/ipykernel_launcher.py:5: UserWarning: Update your `Conv2D` call to the Keras 2 API: `Conv2D(32, (3, 3), activation=\"relu\", input_shape=(28, 28, 1...)`\n",
            "  \"\"\"\n",
            "/usr/local/lib/python3.6/dist-packages/ipykernel_launcher.py:7: UserWarning: Update your `Conv2D` call to the Keras 2 API: `Conv2D(64, (3, 3), activation=\"relu\")`\n",
            "  import sys\n",
            "/usr/local/lib/python3.6/dist-packages/ipykernel_launcher.py:8: UserWarning: Update your `Conv2D` call to the Keras 2 API: `Conv2D(128, (3, 3), activation=\"relu\")`\n",
            "  \n",
            "/usr/local/lib/python3.6/dist-packages/ipykernel_launcher.py:11: UserWarning: Update your `Conv2D` call to the Keras 2 API: `Conv2D(32, (1, 1), activation=\"relu\")`\n",
            "  # This is added back by InteractiveShellApp.init_path()\n",
            "/usr/local/lib/python3.6/dist-packages/ipykernel_launcher.py:13: UserWarning: Update your `Conv2D` call to the Keras 2 API: `Conv2D(64, (3, 3), activation=\"relu\")`\n",
            "  del sys.path[0]\n",
            "/usr/local/lib/python3.6/dist-packages/ipykernel_launcher.py:14: UserWarning: Update your `Conv2D` call to the Keras 2 API: `Conv2D(128, (3, 3), activation=\"relu\")`\n",
            "  \n"
          ],
          "name": "stderr"
        }
      ]
    },
    {
      "cell_type": "code",
      "metadata": {
        "id": "Zp6SuGrL9M3h",
        "colab_type": "code",
        "colab": {}
      },
      "source": [
        "model.compile(loss='categorical_crossentropy',\n",
        "             optimizer='adam',\n",
        "             metrics=['accuracy'])"
      ],
      "execution_count": 0,
      "outputs": []
    },
    {
      "cell_type": "code",
      "metadata": {
        "id": "4xWoKhPY9Of5",
        "colab_type": "code",
        "outputId": "74d87fba-5a52-460b-f92b-d7ffa7e45af1",
        "colab": {
          "base_uri": "https://localhost:8080/",
          "height": 440
        }
      },
      "source": [
        "model.fit(X_train, Y_train, batch_size=32, nb_epoch=10, validation_data=(X_test, Y_test), verbose=1)"
      ],
      "execution_count": 6,
      "outputs": [
        {
          "output_type": "stream",
          "text": [
            "Train on 60000 samples, validate on 10000 samples\n",
            "Epoch 1/10\n",
            "  608/60000 [..............................] - ETA: 18s - loss: 0.0243 - acc: 0.9918"
          ],
          "name": "stdout"
        },
        {
          "output_type": "stream",
          "text": [
            "/usr/local/lib/python3.6/dist-packages/ipykernel_launcher.py:1: UserWarning: The `nb_epoch` argument in `fit` has been renamed `epochs`.\n",
            "  \"\"\"Entry point for launching an IPython kernel.\n"
          ],
          "name": "stderr"
        },
        {
          "output_type": "stream",
          "text": [
            "60000/60000 [==============================] - 15s 244us/step - loss: 0.0354 - acc: 0.9889 - val_loss: 0.0369 - val_acc: 0.9882\n",
            "Epoch 2/10\n",
            "60000/60000 [==============================] - 15s 243us/step - loss: 0.0280 - acc: 0.9913 - val_loss: 0.0292 - val_acc: 0.9913\n",
            "Epoch 3/10\n",
            "60000/60000 [==============================] - 15s 244us/step - loss: 0.0237 - acc: 0.9924 - val_loss: 0.0318 - val_acc: 0.9909\n",
            "Epoch 4/10\n",
            "60000/60000 [==============================] - 15s 253us/step - loss: 0.0197 - acc: 0.9939 - val_loss: 0.0424 - val_acc: 0.9871\n",
            "Epoch 5/10\n",
            "60000/60000 [==============================] - 15s 243us/step - loss: 0.0176 - acc: 0.9943 - val_loss: 0.0300 - val_acc: 0.9919\n",
            "Epoch 6/10\n",
            "60000/60000 [==============================] - 15s 242us/step - loss: 0.0144 - acc: 0.9953 - val_loss: 0.0370 - val_acc: 0.9912\n",
            "Epoch 7/10\n",
            "60000/60000 [==============================] - 15s 243us/step - loss: 0.0128 - acc: 0.9956 - val_loss: 0.0415 - val_acc: 0.9897\n",
            "Epoch 8/10\n",
            "60000/60000 [==============================] - 15s 243us/step - loss: 0.0116 - acc: 0.9961 - val_loss: 0.0455 - val_acc: 0.9890\n",
            "Epoch 9/10\n",
            "60000/60000 [==============================] - 15s 254us/step - loss: 0.0111 - acc: 0.9963 - val_loss: 0.0361 - val_acc: 0.9915\n",
            "Epoch 10/10\n",
            "60000/60000 [==============================] - 15s 253us/step - loss: 0.0103 - acc: 0.9966 - val_loss: 0.0355 - val_acc: 0.9921\n"
          ],
          "name": "stdout"
        },
        {
          "output_type": "execute_result",
          "data": {
            "text/plain": [
              "<keras.callbacks.History at 0x7f6453abbcc0>"
            ]
          },
          "metadata": {
            "tags": []
          },
          "execution_count": 6
        }
      ]
    },
    {
      "cell_type": "code",
      "metadata": {
        "id": "AtsH-lLk-eLb",
        "colab_type": "code",
        "colab": {
          "base_uri": "https://localhost:8080/",
          "height": 34
        },
        "outputId": "2a067c0f-c338-46f3-9d52-4f17911b33a1"
      },
      "source": [
        "score = model.evaluate(X_test, Y_test, verbose=0)\n",
        "print(score)"
      ],
      "execution_count": 7,
      "outputs": [
        {
          "output_type": "stream",
          "text": [
            "[0.03546657307177038, 0.9921]\n"
          ],
          "name": "stdout"
        }
      ]
    }
  ]
}