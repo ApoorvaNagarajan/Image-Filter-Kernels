{
  "nbformat": 4,
  "nbformat_minor": 0,
  "metadata": {
    "colab": {
      "name": "assignment19.ipynb",
      "provenance": [],
      "collapsed_sections": [],
      "include_colab_link": true
    },
    "kernelspec": {
      "name": "python3",
      "display_name": "Python 3"
    },
    "accelerator": "GPU"
  },
  "cells": [
    {
      "cell_type": "markdown",
      "metadata": {
        "id": "view-in-github",
        "colab_type": "text"
      },
      "source": [
        "<a href=\"https://colab.research.google.com/github/ApoorvaNagarajan/Image-Filter-Kernels/blob/master/assignment19/assignment19.ipynb\" target=\"_parent\"><img src=\"https://colab.research.google.com/assets/colab-badge.svg\" alt=\"Open In Colab\"/></a>"
      ]
    },
    {
      "cell_type": "markdown",
      "metadata": {
        "id": "rRihSTgxAoWW",
        "colab_type": "text"
      },
      "source": [
        "**Importing all python packages**"
      ]
    },
    {
      "cell_type": "code",
      "metadata": {
        "id": "FNvC2jgT5nKc",
        "colab_type": "code",
        "outputId": "0b4fd067-e4c9-4fe1-8377-6d400d46f48b",
        "colab": {
          "base_uri": "https://localhost:8080/",
          "height": 34
        }
      },
      "source": [
        "import keras\n",
        "import json\n",
        "import matplotlib.pyplot as plt\n",
        "from sklearn.cluster import KMeans\n",
        "import numpy as np"
      ],
      "execution_count": 1,
      "outputs": [
        {
          "output_type": "stream",
          "text": [
            "Using TensorFlow backend.\n"
          ],
          "name": "stderr"
        }
      ]
    },
    {
      "cell_type": "markdown",
      "metadata": {
        "id": "xlHVilBdNZ_O",
        "colab_type": "text"
      },
      "source": [
        "**Load the annotations file**"
      ]
    },
    {
      "cell_type": "code",
      "metadata": {
        "id": "ApvRWWkq54mp",
        "colab_type": "code",
        "colab": {}
      },
      "source": [
        "with open('via_export_json.json') as f:\n",
        "  data = json.load(f)"
      ],
      "execution_count": 0,
      "outputs": []
    },
    {
      "cell_type": "code",
      "metadata": {
        "id": "j0mBVldKCurI",
        "colab_type": "code",
        "colab": {
          "base_uri": "https://localhost:8080/",
          "height": 134
        },
        "outputId": "60a7746a-ad80-4236-ebe2-80d977068833"
      },
      "source": [
        "rectangles = []\n",
        "\n",
        "for i in data : \n",
        "    image_data = data[i]\n",
        "    regions = image_data['regions']\n",
        "    for r in regions:\n",
        "      shape = r['shape_attributes']\n",
        "      rectangles.append([shape['x'], shape['y'], shape['width'], shape['height']])\n",
        "      #print(i, shape) \n",
        "      \n",
        "print(np.array(rectangles))"
      ],
      "execution_count": 3,
      "outputs": [
        {
          "output_type": "stream",
          "text": [
            "[[ 42  64 153 163]\n",
            " [217  60 149 227]\n",
            " [ 46  78 108 146]\n",
            " ...\n",
            " [ 25  96 107 243]\n",
            " [134  11  88 198]\n",
            " [228 152 146 219]]\n"
          ],
          "name": "stdout"
        }
      ]
    },
    {
      "cell_type": "markdown",
      "metadata": {
        "id": "iSrPOvgPNi1o",
        "colab_type": "text"
      },
      "source": [
        "**Run k means clustering on all the bounding boxes**"
      ]
    },
    {
      "cell_type": "code",
      "metadata": {
        "id": "z50SrFoMLRHb",
        "colab_type": "code",
        "colab": {}
      },
      "source": [
        "kmeans = KMeans(n_clusters=4, random_state=0).fit(np.array(rectangles))"
      ],
      "execution_count": 0,
      "outputs": []
    },
    {
      "cell_type": "code",
      "metadata": {
        "id": "jbQBUE-2L5Nz",
        "colab_type": "code",
        "colab": {
          "base_uri": "https://localhost:8080/",
          "height": 84
        },
        "outputId": "eb592a5a-a271-4f9a-d551-cd3eabe0c3fc"
      },
      "source": [
        "kmeans.cluster_centers_"
      ],
      "execution_count": 5,
      "outputs": [
        {
          "output_type": "execute_result",
          "data": {
            "text/plain": [
              "array([[ 63.51612903,  45.32258065,  71.74193548, 110.66666667],\n",
              "       [263.03061224,  44.17346939,  71.57142857, 113.09183673],\n",
              "       [166.58333333,  92.96666667,  53.43333333,  79.5       ],\n",
              "       [124.07692308,  36.26923077, 132.15384615, 224.73076923]])"
            ]
          },
          "metadata": {
            "tags": []
          },
          "execution_count": 5
        }
      ]
    }
  ]
}